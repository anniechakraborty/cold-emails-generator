{
 "cells": [
  {
   "cell_type": "code",
   "execution_count": 1,
   "id": "d0a3e306",
   "metadata": {},
   "outputs": [
    {
     "name": "stderr",
     "output_type": "stream",
     "text": [
      "USER_AGENT environment variable not set, consider setting it to identify your requests.\n"
     ]
    }
   ],
   "source": [
    "from langchain_community.document_loaders import WebBaseLoader\n",
    "\n",
    "loader = WebBaseLoader(\"https://www.linkedin.com/jobs/view/4231414211\")"
   ]
  },
  {
   "cell_type": "code",
   "execution_count": 2,
   "id": "0068abc7",
   "metadata": {},
   "outputs": [
    {
     "data": {
      "text/plain": [
       "'\\n\\n\\n\\n \\n\\n\\n\\n\\n\\n\\n\\n\\n\\n\\nTata Consultancy Services hiring Python Developer in Ames, IA | LinkedIn\\n\\n\\n\\n\\n\\n\\n\\n\\n\\n\\n\\n\\n\\n\\n\\n\\n\\n\\n\\n\\n\\n\\n\\n \\n\\n\\n\\n \\n\\n\\n\\n\\n\\n\\n\\n\\n\\n\\n\\n\\n\\n \\n\\nLinkedIn and 3rd parties use essential and non-essential cookies to provide, secure, analyze and improve our Services, and to show you relevant ads (including professional and job ads) on and off LinkedIn. Learn more in our Cookie Policy.Select Accept to consent or Reject to decline non-essential cookies for this use. You can update your choices at any time in your settings.\\n\\n\\n\\n\\n                Accept\\n                \\n\\n                Reject\\n                \\n\\n\\n \\n\\n\\n\\n\\n\\n      Skip to main content\\n    \\n\\n\\n\\nLinkedIn\\n\\n\\n\\n\\n\\n\\n\\n              Python Developer in Stuttgart\\n \\nExpand search\\n\\n\\n\\n\\n\\n\\nThis button displays the currently selected search type. When expanded it provides a list of search options that will switch the search inputs to match the current selection. \\n \\n\\n\\n\\n                        Jobs\\n                    \\n\\n\\n\\n                        People\\n                    \\n\\n\\n\\n                        Learning\\n                    \\n\\n\\n\\n\\n\\n\\n\\n\\n\\n\\n\\n\\nClear text\\n\\n\\n\\n\\n\\n\\nClear text\\n\\n\\n\\n\\n\\n\\n\\n\\n\\n\\n\\n\\n\\n\\n\\n\\n \\n\\n\\n\\n\\n\\nClear text\\n\\n\\n\\n\\n\\n\\n\\n\\n\\n \\n\\n\\n\\n\\n\\nClear text\\n\\n\\n\\n\\n\\n\\n\\n\\n\\n\\n\\n\\n\\n\\n\\nClear text\\n\\n\\n\\n\\n\\n\\n\\n\\n\\n\\n\\n\\n\\n\\n\\n\\n      Join now\\n    \\n\\n          Sign in\\n      \\n\\n\\n\\n\\n\\n \\n\\n\\n\\n\\n\\n\\n\\n\\n\\n\\nPython Developer\\n\\nTata Consultancy Services\\nAmes, IA\\n\\n\\n\\n\\n\\n\\n\\n\\n\\n\\n\\n\\nPython Developer\\n\\n\\n\\n\\n\\n\\n                Tata Consultancy Services\\n              \\n\\n\\n              Ames, IA\\n            \\n\\n\\n\\n          \\n\\n    \\n    \\n    \\n    \\n    \\n    \\n    \\n    \\n    \\n    \\n    \\n    \\n    \\n    \\n    \\n    \\n\\n    \\n    \\n    \\n    \\n    \\n    \\n    \\n    \\n    \\n    \\n    \\n    \\n    \\n    \\n\\n      1 week ago\\n  \\n        \\n\\n\\n\\n            Be among the first 25 applicants\\n          \\n\\n\\n\\n\\n\\n\\n\\n\\n\\n          See who Tata Consultancy Services has hired for this role\\n        \\n\\n\\n\\nNo longer accepting applications\\n\\n\\n\\n\\n\\n\\n\\n \\n\\n\\n\\n\\n\\n\\n\\n\\n\\n\\n\\n                      Report this job\\n                    \\n    \\n\\n\\n\\n\\n \\n\\n \\n\\n\\n\\n\\n\\n\\n\\n\\n\\n\\n\\n\\nMust Have Technical/Functional SkillsProven experience as a Python Developer.Strong proficiency in SQL and experience with database management systems.Experience in developing APIs using REST and SOAP.Hands-on experience with Linux, including shell scripting and system administration.Familiarity with version control systems like Git.Roles & ResponsibilitiesAbility to write clean, efficient, and well-documented code.Excellent problem-solving skills and attention to detail.Strong communication skills and the ability to work well in a team.Understanding of Agile development methodologies.Salary Range-$100,000-$120,000 a year\\n\\n\\n\\n        \\n            Show more\\n          \\n\\n          \\n\\n\\n\\n        \\n            Show less\\n          \\n\\n          \\n\\n \\n\\n\\n\\n\\n            Seniority level\\n          \\n\\n            Entry level\\n          \\n\\n\\n\\n            Employment type\\n          \\n\\n            Full-time\\n          \\n\\n\\n\\n              Job function\\n            \\n\\n              Engineering and Information Technology\\n            \\n\\n\\n\\n              Industries\\n            \\n\\n            IT Services and IT Consulting\\n            \\n\\n\\n\\n\\n\\n\\n\\n\\n\\n\\n\\n\\n\\n\\n\\n\\nReferrals increase your chances of interviewing at Tata Consultancy Services by 2x\\n\\n                See who you know\\n              \\n\\n\\n\\n\\n \\n\\n\\n\\n\\n            Get notified about new Python Developer jobs in Ames, IA.\\n          \\n\\n            Sign in to create job alert\\n          \\n\\n\\n\\n\\n\\n\\n\\n\\n\\n            Similar jobs\\n          \\n\\n\\n\\n\\n\\n\\n\\n              \\n          \\n        Python Developer\\n      \\n      \\n          \\n\\n\\n\\n \\n            \\n        Python Developer\\n      \\n          \\n\\n\\n            Tata Consultancy Services\\n          \\n\\n\\n\\n\\n            Ames, IA\\n          \\n\\n\\n            \\n\\n    \\n    \\n    \\n    \\n    \\n    \\n    \\n    \\n    \\n    \\n    \\n    \\n    \\n    \\n    \\n    \\n\\n    \\n    \\n    \\n    \\n    \\n    \\n    \\n    \\n    \\n    \\n    \\n    \\n    \\n    \\n\\n      1 day ago\\n  \\n          \\n\\n\\n \\n\\n\\n\\n\\n\\n\\n\\n              \\n          \\n        Software Developer\\n      \\n      \\n          \\n\\n\\n\\n \\n            \\n        Software Developer\\n      \\n          \\n\\n\\n            DataAnnotation\\n          \\n\\n\\n\\n\\n            Iowa, United States\\n          \\n\\n\\n            \\n\\n    \\n    \\n    \\n    \\n    \\n    \\n    \\n    \\n    \\n    \\n    \\n    \\n    \\n    \\n    \\n    \\n\\n    \\n    \\n    \\n    \\n    \\n    \\n    \\n    \\n    \\n    \\n    \\n    \\n    \\n    \\n\\n      1 week ago\\n  \\n          \\n\\n\\n \\n\\n\\n\\n\\n\\n\\n\\n\\n\\n\\n\\n              People also viewed\\n            \\n\\n\\n\\n\\n\\n\\n\\n\\n              \\n        \\n        Cloud & AI Solution Engineer – Innovative AI Applications\\n      \\n      \\n          \\n\\n\\n\\n\\n            \\n        Cloud & AI Solution Engineer – Innovative AI Applications\\n      \\n \\n\\n\\n            Microsoft\\n          \\n\\n\\n\\n\\n\\n            Iowa, United States\\n          \\n\\n\\n            \\n\\n    \\n    \\n    \\n    \\n    \\n    \\n    \\n    \\n    \\n    \\n    \\n    \\n    \\n    \\n    \\n    \\n\\n    \\n    \\n    \\n    \\n    \\n    \\n    \\n    \\n    \\n    \\n    \\n    \\n    \\n    \\n\\n      19 hours ago\\n  \\n          \\n\\n\\n \\n\\n\\n\\n\\n\\n\\n\\n\\n              \\n        \\n        Cloud & AI Solution Engineer – Innovative AI Applications\\n      \\n      \\n          \\n\\n\\n\\n\\n            \\n        Cloud & AI Solution Engineer – Innovative AI Applications\\n      \\n \\n\\n\\n            Microsoft\\n          \\n\\n\\n\\n\\n\\n            Iowa, United States\\n          \\n\\n\\n            \\n\\n    \\n    \\n    \\n    \\n    \\n    \\n    \\n    \\n    \\n    \\n    \\n    \\n    \\n    \\n    \\n    \\n\\n    \\n    \\n    \\n    \\n    \\n    \\n    \\n    \\n    \\n    \\n    \\n    \\n    \\n    \\n\\n      19 hours ago\\n  \\n          \\n\\n\\n \\n\\n\\n\\n\\n\\n\\n\\n\\n              Similar Searches\\n            \\n\\n\\n\\n\\n\\n\\n\\n\\n\\n\\n\\n\\n            \\n        Python Developer jobs\\n      \\n \\n\\n\\n\\n\\n              \\n        46,642 open jobs\\n      \\n            \\n \\n\\n\\n\\n\\n\\n\\n\\n\\n\\n\\n            \\n        Performance Architect jobs\\n      \\n \\n\\n\\n\\n\\n              \\n        44,166 open jobs\\n      \\n            \\n \\n\\n\\n\\n\\n\\n\\n\\n\\n\\n\\n            \\n        Bridge Engineer jobs\\n      \\n \\n\\n\\n\\n\\n              \\n        22,384 open jobs\\n      \\n            \\n \\n\\n\\n\\n\\n\\n\\n\\n\\n\\n\\n            \\n        Django Developer jobs\\n      \\n \\n\\n\\n\\n\\n              \\n        37,934 open jobs\\n      \\n            \\n \\n\\n\\n\\n\\n\\n\\n\\n\\n\\n\\n            \\n        Trading Analyst jobs\\n      \\n \\n\\n\\n\\n\\n              \\n        32,574 open jobs\\n      \\n            \\n \\n\\n\\n\\n\\n\\n\\n\\n\\n\\n\\n            \\n        SAP Functional Consultant jobs\\n      \\n \\n\\n\\n\\n\\n              \\n        2,686 open jobs\\n      \\n            \\n \\n\\n\\n\\n\\n\\n\\n\\n\\n\\n\\n            \\n        Sap Materials Management Consultant jobs\\n      \\n \\n\\n\\n\\n\\n              \\n        1,762 open jobs\\n      \\n            \\n \\n\\n\\n\\n\\n\\n\\n\\n\\n\\n\\n            \\n        Linux Engineer jobs\\n      \\n \\n\\n\\n\\n\\n              \\n        23,514 open jobs\\n      \\n            \\n \\n\\n\\n\\n\\n\\n\\n\\n\\n\\n\\n            \\n        Performance Tester jobs\\n      \\n \\n\\n\\n\\n\\n              \\n        6,683 open jobs\\n      \\n            \\n \\n\\n\\n\\n\\n\\n\\n\\n\\n\\n\\n            \\n        Investor jobs\\n      \\n \\n\\n\\n\\n\\n              \\n        21,910 open jobs\\n      \\n            \\n \\n\\n\\n\\n\\n\\n\\n\\n\\n\\n\\n            \\n        Co-Founder jobs\\n      \\n \\n\\n\\n\\n\\n              \\n        5,680 open jobs\\n      \\n            \\n \\n\\n\\n\\n\\n\\n\\n\\n\\n\\n\\n            \\n        Network Developer jobs\\n      \\n \\n\\n\\n\\n\\n              \\n        222,191 open jobs\\n      \\n            \\n \\n\\n\\n\\n\\n\\n\\n\\n\\n\\n\\n            \\n        Application Developer jobs\\n      \\n \\n\\n\\n\\n\\n              \\n        64,604 open jobs\\n      \\n            \\n \\n\\n\\n\\n\\n\\n\\n\\n\\n\\n\\n            \\n        Developer jobs\\n      \\n \\n\\n\\n\\n\\n              \\n        258,935 open jobs\\n      \\n            \\n \\n\\n\\n\\n\\n\\n\\n\\n\\n\\n\\n            \\n        Automation Engineer jobs\\n      \\n \\n\\n\\n\\n\\n              \\n        302,476 open jobs\\n      \\n            \\n \\n\\n\\n\\n\\n\\n\\n\\n\\n\\n\\n            \\n        Software Tester jobs\\n      \\n \\n\\n\\n\\n\\n              \\n        7,128 open jobs\\n      \\n            \\n \\n\\n\\n\\n\\n\\n\\n\\n\\n\\n\\n            \\n        Full Stack Engineer jobs\\n      \\n \\n\\n\\n\\n\\n              \\n        38,546 open jobs\\n      \\n            \\n \\n\\n\\n\\n\\n\\n\\n\\n\\n\\n\\n            \\n        Junior Software Engineer jobs\\n      \\n \\n\\n\\n\\n\\n              \\n        233,545 open jobs\\n      \\n            \\n \\n\\n\\n\\n\\n\\n\\n\\n\\n\\n\\n            \\n        Associate Developer jobs\\n      \\n \\n\\n\\n\\n\\n              \\n        6,471 open jobs\\n      \\n            \\n \\n\\n\\n\\n\\n\\n\\n\\n\\n\\n\\n            \\n        Data Engineer jobs\\n      \\n \\n\\n\\n\\n\\n              \\n        192,126 open jobs\\n      \\n            \\n \\n\\n\\n\\n\\n\\n\\n\\n\\n\\n\\n            \\n        Android Developer jobs\\n      \\n \\n\\n\\n\\n\\n              \\n        37,974 open jobs\\n      \\n            \\n \\n\\n\\n\\n\\n\\n\\n\\n\\n\\n\\n            \\n        Support Engineer jobs\\n      \\n \\n\\n\\n\\n\\n              \\n        294,729 open jobs\\n      \\n            \\n \\n\\n\\n\\n\\n\\n\\n\\n\\n\\n\\n            \\n        Junior Project Manager jobs\\n      \\n \\n\\n\\n\\n\\n              \\n        85,483 open jobs\\n      \\n            \\n \\n\\n\\n\\n\\n\\n\\n\\n\\n\\n\\n            \\n        SAP Consultant jobs\\n      \\n \\n\\n\\n\\n\\n              \\n        8,111 open jobs\\n      \\n            \\n \\n\\n\\n\\n\\n\\n\\n\\n\\n\\n\\n            \\n        Associate Software Engineer jobs\\n      \\n \\n\\n\\n\\n\\n              \\n        223,979 open jobs\\n      \\n            \\n \\n\\n\\n\\n\\n\\n                Show more\\n              \\n\\n\\n                Show less\\n              \\n\\n\\n\\n\\n\\n\\n\\n\\n\\n\\n\\n\\n          Explore collaborative articles\\n        \\n\\n\\n        We’re unlocking community knowledge in a new way. Experts add insights directly into each article, started with the help of AI.\\n      \\n\\n        Explore More\\n      \\n\\n\\n\\n\\n\\n\\n\\n\\n\\n\\n                \\n          \\n            More searches\\n        \\n              \\n\\n\\n                \\n          \\n            More searches\\n        \\n              \\n\\n\\n\\n\\n\\n\\n \\n\\n\\n                Avanciers Inc. jobs\\n              \\n\\n\\n\\n                Python Developer jobs\\n              \\n\\n\\n\\n                Equisoft jobs\\n              \\n\\n\\n\\n                Performance Architect jobs\\n              \\n\\n\\n\\n                Bridge Engineer jobs\\n              \\n\\n\\n\\n                Django Developer jobs\\n              \\n\\n\\n\\n                Appgate jobs\\n              \\n\\n\\n\\n                Trading Analyst jobs\\n              \\n\\n\\n\\n                SAP Functional Consultant jobs\\n              \\n\\n\\n\\n                Tata Consultancy Services jobs\\n              \\n\\n\\n\\n                Sap Materials Management Consultant jobs\\n              \\n\\n\\n\\n                In Time Tec jobs\\n              \\n\\n\\n\\n                Linux Engineer jobs\\n              \\n\\n\\n\\n                Performance Tester jobs\\n              \\n\\n\\n\\n                Investor jobs\\n              \\n\\n\\n \\n\\n \\n\\n\\n                Infosys jobs\\n              \\n\\n\\n\\n                Arista Networks jobs\\n              \\n\\n\\n\\n                Tech Mahindra jobs\\n              \\n\\n\\n\\n                Synechron jobs\\n              \\n\\n\\n\\n                Zoho jobs\\n              \\n\\n\\n\\n                Co-Founder jobs\\n              \\n\\n\\n\\n                Network Developer jobs\\n              \\n\\n\\n\\n                Virtusa jobs\\n              \\n\\n\\n\\n                Persistent Systems jobs\\n              \\n\\n\\n\\n                Comcast jobs\\n              \\n\\n\\n\\n                Global Atlantic Financial Group jobs\\n              \\n\\n\\n\\n                H-E-B jobs\\n              \\n\\n\\n\\n                Modis jobs\\n              \\n\\n\\n\\n                Application Developer jobs\\n              \\n\\n\\n\\n                Fiserv jobs\\n              \\n\\n\\n \\n\\n \\n\\n\\n                Developer jobs\\n              \\n\\n\\n\\n                Automation Engineer jobs\\n              \\n\\n\\n\\n                Hub Group jobs\\n              \\n\\n\\n\\n                Software Tester jobs\\n              \\n\\n\\n\\n                Xoriant jobs\\n              \\n\\n\\n\\n                Cognizant jobs\\n              \\n\\n\\n\\n                Full Stack Engineer jobs\\n              \\n\\n\\n\\n                Junior Software Engineer jobs\\n              \\n\\n\\n\\n                Associate Developer jobs\\n              \\n\\n\\n\\n                Data Engineer jobs\\n              \\n\\n\\n\\n                WellSky jobs\\n              \\n\\n\\n\\n                Verizon jobs\\n              \\n\\n\\n\\n                Android Developer jobs\\n              \\n\\n\\n\\n                Support Engineer jobs\\n              \\n\\n\\n\\n                Junior Project Manager jobs\\n              \\n\\n\\n \\n\\n \\n\\n\\n                SAP Consultant jobs\\n              \\n\\n\\n\\n                Associate Software Engineer jobs\\n              \\n\\n\\n\\n                Technical Lead jobs\\n              \\n\\n\\n\\n                Deutsche Bank jobs\\n              \\n\\n\\n\\n                CGI jobs\\n              \\n\\n\\n\\n                Senior Security Engineer jobs\\n              \\n\\n\\n\\n                Software Engineer jobs\\n              \\n\\n\\n\\n                IBM jobs\\n              \\n\\n\\n\\n                Russell Tobin jobs\\n              \\n\\n\\n\\n                Engineer jobs\\n              \\n\\n\\n\\n                Dotnet Developer jobs\\n              \\n\\n\\n\\n                Scientist jobs\\n              \\n\\n\\n\\n                Pfizer jobs\\n              \\n\\n\\n\\n                Ericsson jobs\\n              \\n\\n\\n\\n                BCP jobs\\n              \\n\\n\\n \\n\\n\\n\\n\\n \\n\\n\\n\\n\\n\\n\\nLinkedIn\\n\\n© 2025\\n\\n\\n\\n          \\n          About\\n        \\n        \\n\\n\\n\\n          \\n          Accessibility\\n        \\n        \\n\\n\\n\\n          \\n          User Agreement\\n        \\n        \\n\\n\\n\\n          \\n          Privacy Policy\\n        \\n        \\n\\n\\n\\n\\n          \\n          Cookie Policy\\n        \\n        \\n\\n\\n\\n          \\n          Copyright Policy\\n        \\n        \\n\\n\\n\\n          \\n          Brand Policy\\n        \\n        \\n\\n\\n\\n          \\n            Guest Controls\\n          \\n        \\n\\n\\n\\n          \\n          Community Guidelines\\n        \\n        \\n\\n\\n\\n\\n\\n\\n\\n\\n\\n                العربية (Arabic)\\n            \\n\\n\\n\\n\\n                বাংলা (Bangla)\\n            \\n\\n\\n\\n\\n                Čeština (Czech)\\n            \\n\\n\\n\\n\\n                Dansk (Danish)\\n            \\n\\n\\n\\n\\n                Deutsch (German)\\n            \\n\\n\\n\\n\\n                Ελληνικά (Greek)\\n            \\n\\n\\n\\n\\nEnglish (English)\\n\\n\\n\\n\\n\\n                Español (Spanish)\\n            \\n\\n\\n\\n\\n                فارسی (Persian)\\n            \\n\\n\\n\\n\\n                Suomi (Finnish)\\n            \\n\\n\\n\\n\\n                Français (French)\\n            \\n\\n\\n\\n\\n                हिंदी (Hindi)\\n            \\n\\n\\n\\n\\n                Magyar (Hungarian)\\n            \\n\\n\\n\\n\\n                Bahasa Indonesia (Indonesian)\\n            \\n\\n\\n\\n\\n                Italiano (Italian)\\n            \\n\\n\\n\\n\\n                עברית (Hebrew)\\n            \\n\\n\\n\\n\\n                日本語 (Japanese)\\n            \\n\\n\\n\\n\\n                한국어 (Korean)\\n            \\n\\n\\n\\n\\n                मराठी (Marathi)\\n            \\n\\n\\n\\n\\n                Bahasa Malaysia (Malay)\\n            \\n\\n\\n\\n\\n                Nederlands (Dutch)\\n            \\n\\n\\n\\n\\n                Norsk (Norwegian)\\n            \\n\\n\\n\\n\\n                ਪੰਜਾਬੀ (Punjabi)\\n            \\n\\n\\n\\n\\n                Polski (Polish)\\n            \\n\\n\\n\\n\\n                Português (Portuguese)\\n            \\n\\n\\n\\n\\n                Română (Romanian)\\n            \\n\\n\\n\\n\\n                Русский (Russian)\\n            \\n\\n\\n\\n\\n                Svenska (Swedish)\\n            \\n\\n\\n\\n\\n                తెలుగు (Telugu)\\n            \\n\\n\\n\\n\\n                ภาษาไทย (Thai)\\n            \\n\\n\\n\\n\\n                Tagalog (Tagalog)\\n            \\n\\n\\n\\n\\n                Türkçe (Turkish)\\n            \\n\\n\\n\\n\\n                Українська (Ukrainian)\\n            \\n\\n\\n\\n\\n                Tiếng Việt (Vietnamese)\\n            \\n\\n\\n\\n\\n                简体中文 (Chinese (Simplified))\\n            \\n\\n\\n\\n\\n                正體中文 (Chinese (Traditional))\\n            \\n\\n\\n\\n\\n\\n            Language\\n          \\n\\n\\n\\n\\n\\n \\n\\n\\n\\n\\n\\n\\n\\n\\n\\n              Agree & Join LinkedIn\\n            \\n\\n      By clicking Continue to join or sign in, you agree to LinkedIn’s User Agreement, Privacy Policy, and Cookie Policy.\\n    \\n\\n\\n\\n\\n\\n\\n\\n\\n\\n\\n\\n\\n\\n\\n\\n\\n\\n\\n\\n\\n\\n \\n\\n\\n\\n\\n\\n\\n\\n\\n                Sign in to see who you already know at Tata Consultancy Services\\n              \\n \\n\\n\\n\\n \\n \\n\\n\\n\\n              Sign in\\n          \\n\\n\\n\\n \\n\\n\\n\\n\\n\\n\\n\\n                Welcome back\\n            \\n\\n\\n\\n\\n\\n\\n\\n\\n\\n\\n \\n\\n\\n\\n\\n\\n          Email or phone\\n        \\n\\n\\n\\n\\n\\n\\n\\n\\n\\n          Password\\n        \\n\\n\\nShow\\n\\n\\n\\n\\n\\n \\n\\nForgot password?\\n\\n\\n\\n          Sign in\\n        \\n\\n\\n\\n              or\\n            \\n\\n\\n\\n\\n\\n      By clicking Continue to join or sign in, you agree to LinkedIn’s User Agreement, Privacy Policy, and Cookie Policy.\\n    \\n\\n \\n\\n\\n\\n                New to LinkedIn? Join now\\n\\n\\n\\n \\n\\n\\n\\n\\n\\n\\n                        or\\n                      \\n\\n\\n\\n                  New to LinkedIn? Join now\\n\\n\\n      By clicking Continue to join or sign in, you agree to LinkedIn’s User Agreement, Privacy Policy, and Cookie Policy.\\n    \\n\\n\\n \\n\\n\\n\\n\\n\\n\\n\\n\\n\\n\\n\\n\\n\\n\\n\\n\\n\\n\\n\\n\\n\\n\\n\\n\\n\\n\\n\\n'"
      ]
     },
     "execution_count": 2,
     "metadata": {},
     "output_type": "execute_result"
    }
   ],
   "source": [
    "pg_data = loader.load().pop().page_content\n",
    "pg_data"
   ]
  },
  {
   "cell_type": "code",
   "execution_count": 3,
   "id": "46feb997",
   "metadata": {},
   "outputs": [],
   "source": [
    "from langchain_core.prompts import PromptTemplate\n",
    "from langchain_groq import ChatGroq\n",
    "import os\n",
    "from dotenv import load_dotenv\n",
    "\n",
    "load_dotenv()\n",
    "\n",
    "API_KEY=os.getenv('GROQ')\n",
    "llm = ChatGroq(\n",
    "    temperature = 0,\n",
    "    groq_api_key=API_KEY,\n",
    "    model_name=\"llama-3.3-70b-versatile\"\n",
    ")"
   ]
  },
  {
   "cell_type": "code",
   "execution_count": 4,
   "id": "50571904",
   "metadata": {},
   "outputs": [],
   "source": [
    "prompt_extract = PromptTemplate.from_template(\n",
    "    \"\"\"\n",
    "    ### SCRAPED TEXT FROM WEBSITE:\n",
    "    {pg_data}\n",
    "\n",
    "    ### INSTRUCTUION\n",
    "    The scrapped text is from the job page of LinkedIn. Your task is to extract the following details from the job posting and return them in a JSON format with the keys:\n",
    "    `job_title`, `role`, `description`, `skills`, `experience`, `tasks`.\n",
    "    Only return the valid JSON format.\n",
    "\n",
    "    ### VALID JSON (NO PREAMBLE)\n",
    "    \"\"\"\n",
    ")\n",
    "\n",
    "# creating a langchain chain\n",
    "chain_extract = prompt_extract | llm # getting a prompt and passing it to the llm\n",
    "\n",
    "res = chain_extract.invoke(input={'pg_data': pg_data})"
   ]
  },
  {
   "cell_type": "code",
   "execution_count": 5,
   "id": "3739cd64",
   "metadata": {},
   "outputs": [
    {
     "data": {
      "text/plain": [
       "{'job_title': 'Python Developer',\n",
       " 'role': 'Python Developer at Tata Consultancy Services',\n",
       " 'description': 'Tata Consultancy Services is hiring a Python Developer in Ames, IA',\n",
       " 'skills': ['Python',\n",
       "  'SQL',\n",
       "  'Database management systems',\n",
       "  'API development using REST and SOAP',\n",
       "  'Linux',\n",
       "  'Shell scripting',\n",
       "  'System administration',\n",
       "  'Version control systems like Git'],\n",
       " 'experience': 'Proven experience as a Python Developer',\n",
       " 'tasks': ['Write clean, efficient, and well-documented code',\n",
       "  'Excellent problem-solving skills and attention to detail',\n",
       "  'Strong communication skills and the ability to work well in a team',\n",
       "  'Understanding of Agile development methodologies']}"
      ]
     },
     "execution_count": 5,
     "metadata": {},
     "output_type": "execute_result"
    }
   ],
   "source": [
    "# using the output parser to convert the str json content into a json type\n",
    "from langchain_core.output_parsers import JsonOutputParser\n",
    "\n",
    "json_parser = JsonOutputParser()\n",
    "json_obj = json_parser.parse(res.content)\n",
    "\n",
    "json_obj"
   ]
  },
  {
   "cell_type": "code",
   "execution_count": 10,
   "id": "74834e05",
   "metadata": {},
   "outputs": [
    {
     "data": {
      "text/html": [
       "<div>\n",
       "<style scoped>\n",
       "    .dataframe tbody tr th:only-of-type {\n",
       "        vertical-align: middle;\n",
       "    }\n",
       "\n",
       "    .dataframe tbody tr th {\n",
       "        vertical-align: top;\n",
       "    }\n",
       "\n",
       "    .dataframe thead th {\n",
       "        text-align: right;\n",
       "    }\n",
       "</style>\n",
       "<table border=\"1\" class=\"dataframe\">\n",
       "  <thead>\n",
       "    <tr style=\"text-align: right;\">\n",
       "      <th></th>\n",
       "      <th>TechStack</th>\n",
       "      <th>Link1</th>\n",
       "      <th>Link2</th>\n",
       "    </tr>\n",
       "  </thead>\n",
       "  <tbody>\n",
       "    <tr>\n",
       "      <th>0</th>\n",
       "      <td>React</td>\n",
       "      <td>https://github.com/anniechakraborty/anniechak...</td>\n",
       "      <td>https://github.com/anniechakraborty/textutils</td>\n",
       "    </tr>\n",
       "    <tr>\n",
       "      <th>1</th>\n",
       "      <td>Angular</td>\n",
       "      <td>https://github.com/anniechakraborty/simpleKan...</td>\n",
       "      <td>https://github.com/anniechakraborty/frontend-...</td>\n",
       "    </tr>\n",
       "    <tr>\n",
       "      <th>2</th>\n",
       "      <td>Flask</td>\n",
       "      <td>https://github.com/anniechakraborty/simpleKan...</td>\n",
       "      <td>https://github.com/anniechakraborty/PersonalW...</td>\n",
       "    </tr>\n",
       "    <tr>\n",
       "      <th>3</th>\n",
       "      <td>MongoDB</td>\n",
       "      <td>https://github.com/anniechakraborty/simpleKan...</td>\n",
       "      <td>https://github.com/anniechakraborty/BookQuest</td>\n",
       "    </tr>\n",
       "    <tr>\n",
       "      <th>4</th>\n",
       "      <td>Python</td>\n",
       "      <td>https://github.com/anniechakraborty/simpleKan...</td>\n",
       "      <td>https://github.com/anniechakraborty/BookQuest</td>\n",
       "    </tr>\n",
       "    <tr>\n",
       "      <th>5</th>\n",
       "      <td>GenAI</td>\n",
       "      <td>https://github.com/anniechakraborty/GenAIProj...</td>\n",
       "      <td>https://github.com/anniechakraborty/cold-emai...</td>\n",
       "    </tr>\n",
       "    <tr>\n",
       "      <th>6</th>\n",
       "      <td>ReactNative</td>\n",
       "      <td>https://github.com/anniechakraborty/TextHelp</td>\n",
       "      <td>https://github.com/anniechakraborty/my-app</td>\n",
       "    </tr>\n",
       "    <tr>\n",
       "      <th>7</th>\n",
       "      <td>HTML, CSS, TailwindCSS</td>\n",
       "      <td>https://github.com/anniechakraborty/manage-la...</td>\n",
       "      <td>https://github.com/anniechakraborty/social-li...</td>\n",
       "    </tr>\n",
       "    <tr>\n",
       "      <th>8</th>\n",
       "      <td>Machine Learning</td>\n",
       "      <td>https://github.com/anniechakraborty/Classific...</td>\n",
       "      <td>https://github.com/anniechakraborty/Regressio...</td>\n",
       "    </tr>\n",
       "    <tr>\n",
       "      <th>9</th>\n",
       "      <td>XML, Xquery</td>\n",
       "      <td>https://github.com/anniechakraborty/BookQuest</td>\n",
       "      <td>https://github.com/anniechakraborty/BookQuest</td>\n",
       "    </tr>\n",
       "  </tbody>\n",
       "</table>\n",
       "</div>"
      ],
      "text/plain": [
       "                TechStack                                              Link1  \\\n",
       "0                   React   https://github.com/anniechakraborty/anniechak...   \n",
       "1                 Angular   https://github.com/anniechakraborty/simpleKan...   \n",
       "2                   Flask   https://github.com/anniechakraborty/simpleKan...   \n",
       "3                 MongoDB   https://github.com/anniechakraborty/simpleKan...   \n",
       "4                  Python   https://github.com/anniechakraborty/simpleKan...   \n",
       "5                   GenAI   https://github.com/anniechakraborty/GenAIProj...   \n",
       "6             ReactNative       https://github.com/anniechakraborty/TextHelp   \n",
       "7  HTML, CSS, TailwindCSS   https://github.com/anniechakraborty/manage-la...   \n",
       "8        Machine Learning   https://github.com/anniechakraborty/Classific...   \n",
       "9             XML, Xquery      https://github.com/anniechakraborty/BookQuest   \n",
       "\n",
       "                                               Link2  \n",
       "0      https://github.com/anniechakraborty/textutils  \n",
       "1   https://github.com/anniechakraborty/frontend-...  \n",
       "2   https://github.com/anniechakraborty/PersonalW...  \n",
       "3      https://github.com/anniechakraborty/BookQuest  \n",
       "4      https://github.com/anniechakraborty/BookQuest  \n",
       "5   https://github.com/anniechakraborty/cold-emai...  \n",
       "6         https://github.com/anniechakraborty/my-app  \n",
       "7   https://github.com/anniechakraborty/social-li...  \n",
       "8   https://github.com/anniechakraborty/Regressio...  \n",
       "9      https://github.com/anniechakraborty/BookQuest  "
      ]
     },
     "execution_count": 10,
     "metadata": {},
     "output_type": "execute_result"
    }
   ],
   "source": [
    "# Getting the skills data to store in chromadb\n",
    "import pandas as pd\n",
    "\n",
    "df = pd.read_csv('./../app/resources/skills.csv')\n",
    "df"
   ]
  },
  {
   "cell_type": "code",
   "execution_count": 11,
   "id": "a015a40c",
   "metadata": {},
   "outputs": [
    {
     "name": "stdout",
     "output_type": "stream",
     "text": [
      "['TechStack', 'Link1', 'Link2']\n"
     ]
    }
   ],
   "source": [
    "# Preparing the chromaDB as a persistent client to store the data on a disk so that we can access the same data later on without having to insert it again\n",
    "# using just client stores the data in-memory\n",
    "\n",
    "import chromadb\n",
    "import uuid\n",
    "\n",
    "client = chromadb.PersistentClient('vectorstore')\n",
    "collection = client.get_or_create_collection(name='Portfolio')\n",
    "print(df.columns.tolist())\n",
    "if not collection.count():\n",
    "    for _, row in df.iterrows():\n",
    "        primary_link = str(row['Link1']) if pd.notna(row['Link1']) else ''\n",
    "        secondary_link = str(row['Link2']) if pd.notna(row['Link2']) else ''\n",
    "        tech_stack = str(row['TechStack']) if pd.notna(row['TechStack']) else ''\n",
    "        collection.add(\n",
    "            documents=[tech_stack],\n",
    "            metadatas={\n",
    "                'primary_links': primary_link,\n",
    "                'secondary_links': secondary_link\n",
    "            },\n",
    "            ids=[str(uuid.uuid4())]\n",
    "        )"
   ]
  },
  {
   "cell_type": "code",
   "execution_count": 12,
   "id": "7a998979",
   "metadata": {},
   "outputs": [
    {
     "name": "stdout",
     "output_type": "stream",
     "text": [
      "{'ids': ['74cba15c-374e-4933-a192-99194b81a991', '1b6a56f7-c637-40cc-8561-157c0fbb5b61', 'c56438c9-2711-4ef8-9a36-4840f8c219c8', 'e02c6203-ec95-4282-a4ab-e279769df1c5', '2a099f01-d118-429e-878e-4ccdcbd59bed', '5f88cc3e-9fae-4a84-bf1d-d2dc59daa882', '167a3ce4-db50-438f-b179-7558f8b74434', '96ce3828-381c-4c3c-a7d3-83c711794d8e', 'cc235622-433f-45a6-8c8d-bbe3656da877', '98478e1d-e3fc-498a-83b7-a38542761b34'], 'embeddings': array([[-0.08726904,  0.00863323,  0.03240667, ..., -0.01087549,\n",
      "         0.03119643, -0.01890796],\n",
      "       [-0.09454282,  0.03366246, -0.10063555, ...,  0.01545668,\n",
      "         0.00646383, -0.05681656],\n",
      "       [-0.08751205,  0.00945656, -0.06109304, ...,  0.07134798,\n",
      "         0.04969556, -0.02960439],\n",
      "       ...,\n",
      "       [ 0.00566728,  0.05578964,  0.01165499, ...,  0.04982461,\n",
      "         0.00703615,  0.11334594],\n",
      "       [-0.02439189,  0.00324442,  0.05426768, ...,  0.03536279,\n",
      "        -0.02179913, -0.05384536],\n",
      "       [ 0.03419754,  0.06116725,  0.01045411, ...,  0.03658027,\n",
      "         0.09226053,  0.00582634]], shape=(10, 384)), 'documents': ['React', 'Angular', 'Flask', 'MongoDB', 'Python', 'GenAI', 'ReactNative', 'HTML, CSS, TailwindCSS', 'Machine Learning', 'XML, Xquery'], 'uris': None, 'included': ['metadatas', 'documents', 'embeddings'], 'data': None, 'metadatas': [{'primary_links': ' https://github.com/anniechakraborty/anniechakraborty.github.io', 'secondary_links': ' https://github.com/anniechakraborty/textutils'}, {'primary_links': ' https://github.com/anniechakraborty/simpleKanbanBoard', 'secondary_links': ' https://github.com/anniechakraborty/frontend-quiz-app'}, {'secondary_links': ' https://github.com/anniechakraborty/PersonalWebsiteBackend', 'primary_links': ' https://github.com/anniechakraborty/simpleKanbanBackend'}, {'primary_links': ' https://github.com/anniechakraborty/simpleKanbanBackend', 'secondary_links': ' https://github.com/anniechakraborty/BookQuest'}, {'primary_links': ' https://github.com/anniechakraborty/simpleKanbanBackend', 'secondary_links': ' https://github.com/anniechakraborty/BookQuest'}, {'secondary_links': ' https://github.com/anniechakraborty/cold-emails-generator', 'primary_links': ' https://github.com/anniechakraborty/GenAIProjects'}, {'secondary_links': ' https://github.com/anniechakraborty/my-app', 'primary_links': ' https://github.com/anniechakraborty/TextHelp'}, {'primary_links': ' https://github.com/anniechakraborty/manage-landing-page', 'secondary_links': ' https://github.com/anniechakraborty/social-links-profile-main'}, {'secondary_links': ' https://github.com/anniechakraborty/RegressionModels', 'primary_links': ' https://github.com/anniechakraborty/ClassificationModels'}, {'primary_links': ' https://github.com/anniechakraborty/BookQuest', 'secondary_links': ' https://github.com/anniechakraborty/BookQuest'}]}\n"
     ]
    },
    {
     "data": {
      "text/plain": [
       "10"
      ]
     },
     "execution_count": 12,
     "metadata": {},
     "output_type": "execute_result"
    }
   ],
   "source": [
    "print(collection.peek())\n",
    "# collection.delete(\n",
    "#     ids=['710bb5f3-b95f-4497-a816-611f3c569343', '32224923-7d2e-4075-a147-7d1fcaff0718', '920fff09-2502-409a-8a16-b80d841075e4', 'f19a6f6c-4090-4e58-9140-6ac2fa41edc7', 'a8f9b1b9-c0b6-45cc-a23e-985abb7eb2b8', '3950196c-92d0-4017-8262-d5a196a77638', '96d687ee-47c3-4892-800c-e6805ed01d75', 'd7664246-0a58-4db2-87bd-1ce50549e984', 'e20d5376-087e-493c-a645-f0fd73ecfc32', '6a4e31e7-a1a6-4c8d-8fbe-fe61b0589b62']\n",
    "# )\n",
    "collection.count()"
   ]
  },
  {
   "cell_type": "code",
   "execution_count": 13,
   "id": "a3d065ee",
   "metadata": {},
   "outputs": [
    {
     "name": "stdout",
     "output_type": "stream",
     "text": [
      "['Python', 'SQL', 'Database management systems', 'API development using REST and SOAP', 'Linux', 'Shell scripting', 'System administration', 'Version control systems like Git']\n",
      "\n"
     ]
    },
    {
     "data": {
      "text/plain": [
       "[[{'secondary_links': ' https://github.com/anniechakraborty/BookQuest',\n",
       "   'primary_links': ' https://github.com/anniechakraborty/simpleKanbanBackend'}],\n",
       " [{'secondary_links': ' https://github.com/anniechakraborty/RegressionModels',\n",
       "   'primary_links': ' https://github.com/anniechakraborty/ClassificationModels'}],\n",
       " [{'secondary_links': ' https://github.com/anniechakraborty/BookQuest',\n",
       "   'primary_links': ' https://github.com/anniechakraborty/simpleKanbanBackend'}],\n",
       " [{'primary_links': ' https://github.com/anniechakraborty/BookQuest',\n",
       "   'secondary_links': ' https://github.com/anniechakraborty/BookQuest'}],\n",
       " [{'primary_links': ' https://github.com/anniechakraborty/simpleKanbanBackend',\n",
       "   'secondary_links': ' https://github.com/anniechakraborty/BookQuest'}],\n",
       " [{'primary_links': ' https://github.com/anniechakraborty/simpleKanbanBackend',\n",
       "   'secondary_links': ' https://github.com/anniechakraborty/BookQuest'}],\n",
       " [{'primary_links': ' https://github.com/anniechakraborty/simpleKanbanBackend',\n",
       "   'secondary_links': ' https://github.com/anniechakraborty/BookQuest'}],\n",
       " [{'secondary_links': ' https://github.com/anniechakraborty/BookQuest',\n",
       "   'primary_links': ' https://github.com/anniechakraborty/simpleKanbanBackend'}]]"
      ]
     },
     "execution_count": 13,
     "metadata": {},
     "output_type": "execute_result"
    }
   ],
   "source": [
    "# skills relevant to the job description\n",
    "print(json_obj['skills'])\n",
    "print()\n",
    "\n",
    "links = collection.query(\n",
    "    query_texts=json_obj['skills'],\n",
    "    n_results=1\n",
    ").get('metadatas')\n",
    "\n",
    "links"
   ]
  },
  {
   "cell_type": "code",
   "execution_count": 14,
   "id": "7d479688",
   "metadata": {},
   "outputs": [
    {
     "name": "stdout",
     "output_type": "stream",
     "text": [
      "Subject: Application for Python Developer Position at Tata Consultancy Services\n",
      "\n",
      "Dear Hiring Manager,\n",
      "\n",
      "I am excited to apply for the Python Developer position at Tata Consultancy Services in Ames, IA. As an MS Computer Science student at the University of Stuttgart, I am confident that my skills and experience make me an ideal candidate for this role.\n",
      "\n",
      "With a strong foundation in Python programming, I have developed a range of skills in full stack web development, API development, mobile apps development, and AI/ML model development. I am well-versed in writing clean, efficient, and well-documented code, and I possess excellent problem-solving skills with attention to detail. My strong communication skills and ability to work well in a team will enable me to collaborate effectively with your team.\n",
      "\n",
      "I am familiar with Agile development methodologies and have experience working in a fast-paced environment. My portfolio includes several projects that demonstrate my capabilities, including:\n",
      "\n",
      "* A simple Kanban board backend (https://github.com/anniechakraborty/simpleKanbanBackend)\n",
      "* A book quest application (https://github.com/anniechakraborty/BookQuest)\n",
      "* Regression models (https://github.com/anniechakraborty/RegressionModels)\n",
      "* Classification models (https://github.com/anniechakraborty/ClassificationModels)\n",
      "\n",
      "These projects showcase my ability to design, develop, and deploy scalable and efficient solutions using Python. I am excited about the opportunity to bring my skills and experience to Tata Consultancy Services and contribute to the success of your team.\n",
      "\n",
      "Thank you for considering my application. I would welcome the opportunity to discuss my qualifications further and explain in greater detail why I am the ideal candidate for this role.\n",
      "\n",
      "Best regards,\n",
      "Annie Chakraborty\n"
     ]
    }
   ],
   "source": [
    "job_desc = json_obj['description']\n",
    "job_tasks = json_obj['tasks']\n",
    "\n",
    "prompt_email = PromptTemplate.from_template(\n",
    "        \"\"\"\n",
    "        ### JOB DESCRIPTION:\n",
    "        {job_desc}\n",
    "        and TASKS:\n",
    "        {job_tasks}\n",
    "        ### INSTRUCTION:\n",
    "        You are Annie Chakraborty, an MS Computer Science student at the University of Stuttgart. As a CS student you have gained several skills\n",
    "        in the fields of full stack web development, python programming, API development, mobile apps development, and AI/ML model development.\n",
    "        \n",
    "        Your job is to write a cold email to the client regarding the job mentioned above describing the capability of AtliQ \n",
    "        in fulfilling their needs.\n",
    "        Also add the most relevant ones from the following links to showcase your portfolio: {links}\n",
    "        Remember you are Annie, MS student in University of Stuttgart. \n",
    "        Do not provide a preamble.\n",
    "        ### EMAIL (NO PREAMBLE):\n",
    "        \n",
    "        \"\"\"\n",
    "        )\n",
    "\n",
    "chain_email = prompt_email | llm\n",
    "res = chain_email.invoke({\"job_desc\": str(job_desc), 'job_tasks': job_tasks, \"links\": links})\n",
    "print(res.content)"
   ]
  },
  {
   "cell_type": "code",
   "execution_count": null,
   "id": "8ce2ec22",
   "metadata": {},
   "outputs": [],
   "source": []
  }
 ],
 "metadata": {
  "kernelspec": {
   "display_name": "venv",
   "language": "python",
   "name": "python3"
  },
  "language_info": {
   "codemirror_mode": {
    "name": "ipython",
    "version": 3
   },
   "file_extension": ".py",
   "mimetype": "text/x-python",
   "name": "python",
   "nbconvert_exporter": "python",
   "pygments_lexer": "ipython3",
   "version": "3.13.1"
  }
 },
 "nbformat": 4,
 "nbformat_minor": 5
}
