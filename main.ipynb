{
 "cells": [
  {
   "cell_type": "code",
   "execution_count": 72,
   "id": "d0a3e306",
   "metadata": {},
   "outputs": [],
   "source": [
    "from langchain_community.document_loaders import WebBaseLoader\n",
    "\n",
    "loader = WebBaseLoader(\"https://www.linkedin.com/jobs/view/4231414211\")"
   ]
  },
  {
   "cell_type": "code",
   "execution_count": 73,
   "id": "0068abc7",
   "metadata": {},
   "outputs": [
    {
     "data": {
      "text/plain": [
       "'\\n\\n\\n\\n \\n\\n\\n\\n\\n\\n\\n\\n\\n\\n\\nTata Consultancy Services hiring Python Developer in Ames, IA | LinkedIn\\n\\n\\n\\n\\n\\n\\n\\n\\n\\n\\n\\n\\n\\n\\n\\n\\n\\n\\n\\n\\n\\n\\n\\n \\n\\n\\n\\n \\n\\n\\n\\n\\n\\n\\n\\n\\n\\n\\n\\n\\n\\n \\n\\nLinkedIn and 3rd parties use essential and non-essential cookies to provide, secure, analyze and improve our Services, and to show you relevant ads (including professional and job ads) on and off LinkedIn. Learn more in our Cookie Policy.Select Accept to consent or Reject to decline non-essential cookies for this use. You can update your choices at any time in your settings.\\n\\n\\n\\n\\n                Accept\\n                \\n\\n                Reject\\n                \\n\\n\\n \\n\\n\\n\\n\\n\\n      Skip to main content\\n    \\n\\n\\n\\nLinkedIn\\n\\n\\n\\n\\n\\n\\n\\n              Python Developer in Stuttgart\\n \\nExpand search\\n\\n\\n\\n\\n\\n\\nThis button displays the currently selected search type. When expanded it provides a list of search options that will switch the search inputs to match the current selection. \\n \\n\\n\\n\\n                        Jobs\\n                    \\n\\n\\n\\n                        People\\n                    \\n\\n\\n\\n                        Learning\\n                    \\n\\n\\n\\n\\n\\n\\n\\n\\n\\n\\n\\n\\nClear text\\n\\n\\n\\n\\n\\n\\nClear text\\n\\n\\n\\n\\n\\n\\n\\n\\n\\n\\n\\n\\n\\n\\n\\n\\n \\n\\n\\n\\n\\n\\nClear text\\n\\n\\n\\n\\n\\n\\n\\n\\n\\n \\n\\n\\n\\n\\n\\nClear text\\n\\n\\n\\n\\n\\n\\n\\n\\n\\n\\n\\n\\n\\n\\n\\nClear text\\n\\n\\n\\n\\n\\n\\n\\n\\n\\n\\n\\n\\n\\n\\n\\n\\n      Join now\\n    \\n\\n          Sign in\\n      \\n\\n\\n\\n\\n\\n \\n\\n\\n\\n\\n\\n\\n\\n\\n\\n\\nPython Developer\\n\\nTata Consultancy Services\\nAmes, IA\\n\\n\\n\\n\\n      Apply\\n      \\n\\n\\n\\n\\n \\n\\n\\n\\n\\n\\n\\n \\n\\n\\n\\n\\n\\n\\n\\n\\n\\n\\n\\n\\n\\n\\n\\n\\n\\n\\n\\n\\n\\n\\n\\n\\n\\n\\n\\n\\n\\n\\n\\n\\n\\n\\n\\n\\n\\n\\n\\n\\n\\n\\n\\nJoin or sign in to find your next job\\nJoin to apply for the Python Developer role at Tata Consultancy Services\\n\\n\\n\\n\\n\\n\\n\\n\\n\\n\\n\\n                      Not you?\\n              \\n\\n\\n\\n\\n\\n                    Remove photo\\n                  \\n\\n\\n\\n\\n\\n\\n\\n\\n\\n\\n\\n\\n\\n\\n\\n\\n\\n\\n\\n\\n\\n\\n\\nFirst name\\n\\n\\n\\n\\n\\nLast name\\n\\n\\n\\n\\n\\n\\n\\nEmail\\n\\n\\n\\n\\n\\n\\n\\nPassword (6+ characters)\\n\\n \\n\\n\\n\\n                By clicking Agree & Join, you agree to the LinkedIn User Agreement, Privacy Policy and Cookie Policy.\\n              \\n\\n                Continue\\n              \\n\\n                Agree & Join\\n              \\n\\n\\n\\n\\n\\n\\n\\n\\n\\n\\n\\n\\n\\n\\nor\\n\\n\\n\\n\\n\\n\\n \\n\\n\\n\\n\\n                      You may also apply directly on company website.\\n                    \\n\\n\\n\\n\\n\\n\\n\\n \\n\\n\\nSecurity verification\\n\\n\\n\\n \\n\\n\\n\\n\\n\\n\\n \\n\\n\\n\\n\\n\\n\\n\\n\\n\\n\\n\\n\\n\\n\\n\\n\\n\\n\\n\\n\\n\\n\\n\\n\\n\\n\\n\\n\\n\\n\\n\\n\\n\\n\\n\\n\\n\\n\\n\\n\\n\\n            Already on LinkedIn? Sign in\\n          \\n\\n\\n\\n\\n\\n\\n\\n\\n\\n\\n\\n\\n\\n\\nPython Developer\\n\\n\\n\\n\\n\\n\\n                Tata Consultancy Services\\n              \\n\\n\\n              Ames, IA\\n            \\n\\n\\n\\n          \\n\\n    \\n    \\n    \\n    \\n    \\n    \\n    \\n    \\n    \\n    \\n    \\n    \\n    \\n    \\n    \\n    \\n\\n    \\n    \\n    \\n    \\n    \\n    \\n    \\n    \\n    \\n    \\n    \\n    \\n    \\n    \\n\\n      2 days ago\\n  \\n        \\n\\n          177 applicants\\n        \\n\\n\\n\\n\\n\\n\\n\\n\\n          See who Tata Consultancy Services has hired for this role\\n        \\n\\n\\n\\n\\n\\n\\n      Apply\\n      \\n\\n\\n\\n\\n \\n\\n\\n\\n\\n\\n\\n \\n\\n\\n\\n\\n\\n\\n\\n\\n\\n\\n\\n\\n\\n\\n\\n\\n\\n\\n\\n\\n\\n\\n\\n\\n\\n\\n\\n\\n\\n\\n\\n\\n\\n\\n\\n\\n\\n\\n\\n\\n\\n\\n\\nJoin or sign in to find your next job\\nJoin to apply for the Python Developer role at Tata Consultancy Services\\n\\n\\n\\n\\n\\n\\n\\n\\n\\n\\n\\n                      Not you?\\n              \\n\\n\\n\\n\\n\\n                    Remove photo\\n                  \\n\\n\\n\\n\\n\\n\\n\\n\\n\\n\\n\\n\\n\\n\\n\\n\\n\\n\\n\\n\\n\\n\\n\\nFirst name\\n\\n\\n\\n\\n\\nLast name\\n\\n\\n\\n\\n\\n\\n\\nEmail\\n\\n\\n\\n\\n\\n\\n\\nPassword (6+ characters)\\n\\n \\n\\n\\n\\n                By clicking Agree & Join, you agree to the LinkedIn User Agreement, Privacy Policy and Cookie Policy.\\n              \\n\\n                Continue\\n              \\n\\n                Agree & Join\\n              \\n\\n\\n\\n\\n\\n\\n\\n\\n\\n\\n\\n\\n\\n\\nor\\n\\n\\n\\n\\n\\n\\n \\n\\n\\n\\n\\n                      You may also apply directly on company website.\\n                    \\n\\n\\n\\n\\n\\n\\n\\n \\n\\n\\nSecurity verification\\n\\n\\n\\n \\n\\n\\n\\n\\n\\n\\n \\n\\n\\n\\n\\n\\n\\n\\n\\n\\n\\n\\n\\n\\n\\n\\n\\n\\n\\n\\n\\n\\n\\n\\n\\n\\n\\n\\n\\n\\n\\n\\n\\n\\n\\n\\n\\n\\n\\n\\n\\n\\n            Already on LinkedIn? Sign in\\n          \\n\\n\\n\\n\\n\\n\\n                Save\\n            \\n\\n\\n \\n\\n\\n\\n\\n\\n\\n\\n\\n\\n\\n\\n                      Report this job\\n                    \\n    \\n\\n\\n\\n\\n \\n\\n \\n\\n\\n\\n\\n\\n\\n\\n\\n\\n\\n\\n\\nMust Have Technical/Functional SkillsProven experience as a Python Developer.Strong proficiency in SQL and experience with database management systems.Experience in developing APIs using REST and SOAP.Hands-on experience with Linux, including shell scripting and system administration.Familiarity with version control systems like Git.Roles & ResponsibilitiesAbility to write clean, efficient, and well-documented code.Excellent problem-solving skills and attention to detail.Strong communication skills and the ability to work well in a team.Understanding of Agile development methodologies.Salary Range-$100,000-$120,000 a year\\n\\n\\n\\n        \\n            Show more\\n          \\n\\n          \\n\\n\\n\\n        \\n            Show less\\n          \\n\\n          \\n\\n \\n\\n\\n\\n\\n            Seniority level\\n          \\n\\n            Entry level\\n          \\n\\n\\n\\n            Employment type\\n          \\n\\n            Full-time\\n          \\n\\n\\n\\n              Job function\\n            \\n\\n              Engineering and Information Technology\\n            \\n\\n\\n\\n              Industries\\n            \\n\\n            IT Services and IT Consulting\\n            \\n\\n\\n\\n\\n\\n\\n\\n\\n\\n\\n\\n\\n\\n\\n\\n\\nReferrals increase your chances of interviewing at Tata Consultancy Services by 2x\\n\\n                See who you know\\n              \\n\\n\\n\\n\\n \\n\\n\\n\\n\\n            Get notified about new Python Developer jobs in Ames, IA.\\n          \\n\\n            Sign in to create job alert\\n          \\n\\n\\n\\n\\n\\n\\n\\n\\n\\n\\n\\n\\n\\n              Similar Searches\\n            \\n\\n\\n\\n\\n\\n\\n\\n\\n\\n\\n\\n\\n            \\n        Python Developer jobs\\n      \\n \\n\\n\\n\\n\\n              \\n        46,642 open jobs\\n      \\n            \\n \\n\\n\\n\\n\\n\\n\\n\\n\\n\\n\\n            \\n        Performance Architect jobs\\n      \\n \\n\\n\\n\\n\\n              \\n        44,166 open jobs\\n      \\n            \\n \\n\\n\\n\\n\\n\\n\\n\\n\\n\\n\\n            \\n        Bridge Engineer jobs\\n      \\n \\n\\n\\n\\n\\n              \\n        22,384 open jobs\\n      \\n            \\n \\n\\n\\n\\n\\n\\n\\n\\n\\n\\n\\n            \\n        Django Developer jobs\\n      \\n \\n\\n\\n\\n\\n              \\n        37,934 open jobs\\n      \\n            \\n \\n\\n\\n\\n\\n\\n\\n\\n\\n\\n\\n            \\n        Trading Analyst jobs\\n      \\n \\n\\n\\n\\n\\n              \\n        32,574 open jobs\\n      \\n            \\n \\n\\n\\n\\n\\n\\n\\n\\n\\n\\n\\n            \\n        SAP Functional Consultant jobs\\n      \\n \\n\\n\\n\\n\\n              \\n        2,686 open jobs\\n      \\n            \\n \\n\\n\\n\\n\\n\\n\\n\\n\\n\\n\\n            \\n        Sap Materials Management Consultant jobs\\n      \\n \\n\\n\\n\\n\\n              \\n        1,762 open jobs\\n      \\n            \\n \\n\\n\\n\\n\\n\\n\\n\\n\\n\\n\\n            \\n        Linux Engineer jobs\\n      \\n \\n\\n\\n\\n\\n              \\n        23,514 open jobs\\n      \\n            \\n \\n\\n\\n\\n\\n\\n\\n\\n\\n\\n\\n            \\n        Performance Tester jobs\\n      \\n \\n\\n\\n\\n\\n              \\n        6,683 open jobs\\n      \\n            \\n \\n\\n\\n\\n\\n\\n\\n\\n\\n\\n\\n            \\n        Investor jobs\\n      \\n \\n\\n\\n\\n\\n              \\n        21,910 open jobs\\n      \\n            \\n \\n\\n\\n\\n\\n\\n\\n\\n\\n\\n\\n            \\n        Co-Founder jobs\\n      \\n \\n\\n\\n\\n\\n              \\n        5,680 open jobs\\n      \\n            \\n \\n\\n\\n\\n\\n\\n\\n\\n\\n\\n\\n            \\n        Network Developer jobs\\n      \\n \\n\\n\\n\\n\\n              \\n        222,191 open jobs\\n      \\n            \\n \\n\\n\\n\\n\\n\\n\\n\\n\\n\\n\\n            \\n        Application Developer jobs\\n      \\n \\n\\n\\n\\n\\n              \\n        64,604 open jobs\\n      \\n            \\n \\n\\n\\n\\n\\n\\n\\n\\n\\n\\n\\n            \\n        Developer jobs\\n      \\n \\n\\n\\n\\n\\n              \\n        258,935 open jobs\\n      \\n            \\n \\n\\n\\n\\n\\n\\n\\n\\n\\n\\n\\n            \\n        Automation Engineer jobs\\n      \\n \\n\\n\\n\\n\\n              \\n        302,476 open jobs\\n      \\n            \\n \\n\\n\\n\\n\\n\\n\\n\\n\\n\\n\\n            \\n        Software Tester jobs\\n      \\n \\n\\n\\n\\n\\n              \\n        7,128 open jobs\\n      \\n            \\n \\n\\n\\n\\n\\n\\n\\n\\n\\n\\n\\n            \\n        Full Stack Engineer jobs\\n      \\n \\n\\n\\n\\n\\n              \\n        38,546 open jobs\\n      \\n            \\n \\n\\n\\n\\n\\n\\n\\n\\n\\n\\n\\n            \\n        Junior Software Engineer jobs\\n      \\n \\n\\n\\n\\n\\n              \\n        233,545 open jobs\\n      \\n            \\n \\n\\n\\n\\n\\n\\n\\n\\n\\n\\n\\n            \\n        Associate Developer jobs\\n      \\n \\n\\n\\n\\n\\n              \\n        6,471 open jobs\\n      \\n            \\n \\n\\n\\n\\n\\n\\n\\n\\n\\n\\n\\n            \\n        Data Engineer jobs\\n      \\n \\n\\n\\n\\n\\n              \\n        192,126 open jobs\\n      \\n            \\n \\n\\n\\n\\n\\n\\n\\n\\n\\n\\n\\n            \\n        Android Developer jobs\\n      \\n \\n\\n\\n\\n\\n              \\n        37,974 open jobs\\n      \\n            \\n \\n\\n\\n\\n\\n\\n\\n\\n\\n\\n\\n            \\n        Support Engineer jobs\\n      \\n \\n\\n\\n\\n\\n              \\n        294,729 open jobs\\n      \\n            \\n \\n\\n\\n\\n\\n\\n\\n\\n\\n\\n\\n            \\n        Junior Project Manager jobs\\n      \\n \\n\\n\\n\\n\\n              \\n        85,483 open jobs\\n      \\n            \\n \\n\\n\\n\\n\\n\\n\\n\\n\\n\\n\\n            \\n        SAP Consultant jobs\\n      \\n \\n\\n\\n\\n\\n              \\n        8,111 open jobs\\n      \\n            \\n \\n\\n\\n\\n\\n\\n\\n\\n\\n\\n\\n            \\n        Associate Software Engineer jobs\\n      \\n \\n\\n\\n\\n\\n              \\n        223,979 open jobs\\n      \\n            \\n \\n\\n\\n\\n\\n\\n                Show more\\n              \\n\\n\\n                Show less\\n              \\n\\n\\n\\n\\n\\n\\n\\n\\n\\n\\n\\n\\n          Explore collaborative articles\\n        \\n\\n\\n        We’re unlocking community knowledge in a new way. Experts add insights directly into each article, started with the help of AI.\\n      \\n\\n        Explore More\\n      \\n\\n\\n\\n\\n\\n\\n\\n\\n\\n\\n                \\n          \\n            More searches\\n        \\n              \\n\\n\\n                \\n          \\n            More searches\\n        \\n              \\n\\n\\n\\n\\n\\n\\n \\n\\n\\n                Avanciers Inc. jobs\\n              \\n\\n\\n\\n                Python Developer jobs\\n              \\n\\n\\n\\n                Equisoft jobs\\n              \\n\\n\\n\\n                Performance Architect jobs\\n              \\n\\n\\n\\n                Bridge Engineer jobs\\n              \\n\\n\\n\\n                Django Developer jobs\\n              \\n\\n\\n\\n                Appgate jobs\\n              \\n\\n\\n\\n                Trading Analyst jobs\\n              \\n\\n\\n\\n                SAP Functional Consultant jobs\\n              \\n\\n\\n\\n                Tata Consultancy Services jobs\\n              \\n\\n\\n\\n                Sap Materials Management Consultant jobs\\n              \\n\\n\\n\\n                In Time Tec jobs\\n              \\n\\n\\n\\n                Linux Engineer jobs\\n              \\n\\n\\n\\n                Performance Tester jobs\\n              \\n\\n\\n\\n                Investor jobs\\n              \\n\\n\\n \\n\\n \\n\\n\\n                Infosys jobs\\n              \\n\\n\\n\\n                Arista Networks jobs\\n              \\n\\n\\n\\n                Tech Mahindra jobs\\n              \\n\\n\\n\\n                Synechron jobs\\n              \\n\\n\\n\\n                Zoho jobs\\n              \\n\\n\\n\\n                Co-Founder jobs\\n              \\n\\n\\n\\n                Network Developer jobs\\n              \\n\\n\\n\\n                Virtusa jobs\\n              \\n\\n\\n\\n                Persistent Systems jobs\\n              \\n\\n\\n\\n                Comcast jobs\\n              \\n\\n\\n\\n                Global Atlantic Financial Group jobs\\n              \\n\\n\\n\\n                H-E-B jobs\\n              \\n\\n\\n\\n                Modis jobs\\n              \\n\\n\\n\\n                Application Developer jobs\\n              \\n\\n\\n\\n                Fiserv jobs\\n              \\n\\n\\n \\n\\n \\n\\n\\n                Developer jobs\\n              \\n\\n\\n\\n                Automation Engineer jobs\\n              \\n\\n\\n\\n                Hub Group jobs\\n              \\n\\n\\n\\n                Software Tester jobs\\n              \\n\\n\\n\\n                Xoriant jobs\\n              \\n\\n\\n\\n                Cognizant jobs\\n              \\n\\n\\n\\n                Full Stack Engineer jobs\\n              \\n\\n\\n\\n                Junior Software Engineer jobs\\n              \\n\\n\\n\\n                Associate Developer jobs\\n              \\n\\n\\n\\n                Data Engineer jobs\\n              \\n\\n\\n\\n                WellSky jobs\\n              \\n\\n\\n\\n                Verizon jobs\\n              \\n\\n\\n\\n                Android Developer jobs\\n              \\n\\n\\n\\n                Support Engineer jobs\\n              \\n\\n\\n\\n                Junior Project Manager jobs\\n              \\n\\n\\n \\n\\n \\n\\n\\n                SAP Consultant jobs\\n              \\n\\n\\n\\n                Associate Software Engineer jobs\\n              \\n\\n\\n\\n                Technical Lead jobs\\n              \\n\\n\\n\\n                Deutsche Bank jobs\\n              \\n\\n\\n\\n                CGI jobs\\n              \\n\\n\\n\\n                Senior Security Engineer jobs\\n              \\n\\n\\n\\n                Software Engineer jobs\\n              \\n\\n\\n\\n                IBM jobs\\n              \\n\\n\\n\\n                Russell Tobin jobs\\n              \\n\\n\\n\\n                Engineer jobs\\n              \\n\\n\\n\\n                Dotnet Developer jobs\\n              \\n\\n\\n\\n                Scientist jobs\\n              \\n\\n\\n\\n                Pfizer jobs\\n              \\n\\n\\n\\n                Ericsson jobs\\n              \\n\\n\\n\\n                BCP jobs\\n              \\n\\n\\n \\n\\n\\n\\n\\n \\n\\n\\n\\n\\n\\n\\nLinkedIn\\n\\n© 2025\\n\\n\\n\\n          \\n          About\\n        \\n        \\n\\n\\n\\n          \\n          Accessibility\\n        \\n        \\n\\n\\n\\n          \\n          User Agreement\\n        \\n        \\n\\n\\n\\n          \\n          Privacy Policy\\n        \\n        \\n\\n\\n\\n\\n          \\n          Cookie Policy\\n        \\n        \\n\\n\\n\\n          \\n          Copyright Policy\\n        \\n        \\n\\n\\n\\n          \\n          Brand Policy\\n        \\n        \\n\\n\\n\\n          \\n            Guest Controls\\n          \\n        \\n\\n\\n\\n          \\n          Community Guidelines\\n        \\n        \\n\\n\\n\\n\\n\\n\\n\\n\\n\\n                العربية (Arabic)\\n            \\n\\n\\n\\n\\n                বাংলা (Bangla)\\n            \\n\\n\\n\\n\\n                Čeština (Czech)\\n            \\n\\n\\n\\n\\n                Dansk (Danish)\\n            \\n\\n\\n\\n\\n                Deutsch (German)\\n            \\n\\n\\n\\n\\n                Ελληνικά (Greek)\\n            \\n\\n\\n\\n\\nEnglish (English)\\n\\n\\n\\n\\n\\n                Español (Spanish)\\n            \\n\\n\\n\\n\\n                فارسی (Persian)\\n            \\n\\n\\n\\n\\n                Suomi (Finnish)\\n            \\n\\n\\n\\n\\n                Français (French)\\n            \\n\\n\\n\\n\\n                हिंदी (Hindi)\\n            \\n\\n\\n\\n\\n                Magyar (Hungarian)\\n            \\n\\n\\n\\n\\n                Bahasa Indonesia (Indonesian)\\n            \\n\\n\\n\\n\\n                Italiano (Italian)\\n            \\n\\n\\n\\n\\n                עברית (Hebrew)\\n            \\n\\n\\n\\n\\n                日本語 (Japanese)\\n            \\n\\n\\n\\n\\n                한국어 (Korean)\\n            \\n\\n\\n\\n\\n                मराठी (Marathi)\\n            \\n\\n\\n\\n\\n                Bahasa Malaysia (Malay)\\n            \\n\\n\\n\\n\\n                Nederlands (Dutch)\\n            \\n\\n\\n\\n\\n                Norsk (Norwegian)\\n            \\n\\n\\n\\n\\n                ਪੰਜਾਬੀ (Punjabi)\\n            \\n\\n\\n\\n\\n                Polski (Polish)\\n            \\n\\n\\n\\n\\n                Português (Portuguese)\\n            \\n\\n\\n\\n\\n                Română (Romanian)\\n            \\n\\n\\n\\n\\n                Русский (Russian)\\n            \\n\\n\\n\\n\\n                Svenska (Swedish)\\n            \\n\\n\\n\\n\\n                తెలుగు (Telugu)\\n            \\n\\n\\n\\n\\n                ภาษาไทย (Thai)\\n            \\n\\n\\n\\n\\n                Tagalog (Tagalog)\\n            \\n\\n\\n\\n\\n                Türkçe (Turkish)\\n            \\n\\n\\n\\n\\n                Українська (Ukrainian)\\n            \\n\\n\\n\\n\\n                Tiếng Việt (Vietnamese)\\n            \\n\\n\\n\\n\\n                简体中文 (Chinese (Simplified))\\n            \\n\\n\\n\\n\\n                正體中文 (Chinese (Traditional))\\n            \\n\\n\\n\\n\\n\\n            Language\\n          \\n\\n\\n\\n\\n\\n \\n\\n\\n\\n\\n\\n\\n\\n\\n\\n              Agree & Join LinkedIn\\n            \\n\\n      By clicking Continue to join or sign in, you agree to LinkedIn’s User Agreement, Privacy Policy, and Cookie Policy.\\n    \\n\\n\\n\\n\\n\\n\\n\\n\\n\\n\\n\\n\\n\\n\\n\\n\\n\\n\\n\\n\\n\\n \\n\\n\\n\\n\\n\\n\\n\\n\\n                Sign in to see who you already know at Tata Consultancy Services\\n              \\n \\n\\n\\n\\n \\n \\n\\n\\n\\n              Sign in\\n          \\n\\n\\n\\n \\n\\n\\n\\n\\n\\n\\n\\n                Welcome back\\n            \\n\\n\\n\\n\\n\\n\\n\\n\\n\\n\\n \\n\\n\\n\\n\\n\\n          Email or phone\\n        \\n\\n\\n\\n\\n\\n\\n\\n\\n\\n          Password\\n        \\n\\n\\nShow\\n\\n\\n\\n\\n\\n \\n\\nForgot password?\\n\\n\\n\\n          Sign in\\n        \\n\\n\\n\\n              or\\n            \\n\\n\\n\\n\\n\\n      By clicking Continue to join or sign in, you agree to LinkedIn’s User Agreement, Privacy Policy, and Cookie Policy.\\n    \\n\\n \\n\\n\\n\\n                New to LinkedIn? Join now\\n\\n\\n\\n \\n\\n\\n\\n\\n\\n\\n                        or\\n                      \\n\\n\\n\\n                  New to LinkedIn? Join now\\n\\n\\n      By clicking Continue to join or sign in, you agree to LinkedIn’s User Agreement, Privacy Policy, and Cookie Policy.\\n    \\n\\n\\n \\n\\n\\n\\n\\n\\n\\n\\n\\n\\n\\n\\n\\n\\n\\n\\n\\n\\n\\n\\n\\n\\n\\n\\n\\n\\n\\n\\n'"
      ]
     },
     "execution_count": 73,
     "metadata": {},
     "output_type": "execute_result"
    }
   ],
   "source": [
    "pg_data = loader.load().pop().page_content\n",
    "pg_data"
   ]
  },
  {
   "cell_type": "code",
   "execution_count": 74,
   "id": "46feb997",
   "metadata": {},
   "outputs": [],
   "source": [
    "from langchain_core.prompts import PromptTemplate\n",
    "from langchain_groq import ChatGroq\n",
    "import os\n",
    "from dotenv import load_dotenv\n",
    "\n",
    "load_dotenv()\n",
    "\n",
    "API_KEY=os.getenv('GROQ')\n",
    "llm = ChatGroq(\n",
    "    temperature = 0,\n",
    "    groq_api_key=API_KEY,\n",
    "    model_name=\"llama-3.3-70b-versatile\"\n",
    ")"
   ]
  },
  {
   "cell_type": "code",
   "execution_count": 75,
   "id": "50571904",
   "metadata": {},
   "outputs": [],
   "source": [
    "prompt_extract = PromptTemplate.from_template(\n",
    "    \"\"\"\n",
    "    ### SCRAPED TEXT FROM WEBSITE:\n",
    "    {pg_data}\n",
    "\n",
    "    ### INSTRUCTUION\n",
    "    The scrapped text is from the job page of LinkedIn. Your task is to extract the following details from the job posting and return them in a JSON format with the keys:\n",
    "    `job_title`, `role`, `description`, `skills`, `experience`, `tasks`.\n",
    "    Only return the valid JSON format.\n",
    "\n",
    "    ### VALID JSON (NO PREAMBLE)\n",
    "    \"\"\"\n",
    ")\n",
    "\n",
    "# creating a langchain chain\n",
    "chain_extract = prompt_extract | llm # getting a prompt and passing it to the llm\n",
    "\n",
    "res = chain_extract.invoke(input={'pg_data': pg_data})"
   ]
  },
  {
   "cell_type": "code",
   "execution_count": 76,
   "id": "3739cd64",
   "metadata": {},
   "outputs": [
    {
     "data": {
      "text/plain": [
       "{'job_title': 'Python Developer',\n",
       " 'role': 'Python Developer',\n",
       " 'description': 'Tata Consultancy Services is hiring a Python Developer in Ames, IA',\n",
       " 'skills': ['Proven experience as a Python Developer',\n",
       "  'Strong proficiency in SQL and experience with database management systems',\n",
       "  'Experience in developing APIs using REST and SOAP',\n",
       "  'Hands-on experience with Linux, including shell scripting and system administration',\n",
       "  'Familiarity with version control systems like Git'],\n",
       " 'experience': 'Entry level',\n",
       " 'tasks': ['Ability to write clean, efficient, and well-documented code',\n",
       "  'Excellent problem-solving skills and attention to detail',\n",
       "  'Strong communication skills and the ability to work well in a team',\n",
       "  'Understanding of Agile development methodologies']}"
      ]
     },
     "execution_count": 76,
     "metadata": {},
     "output_type": "execute_result"
    }
   ],
   "source": [
    "# using the output parser to convert the str json content into a json type\n",
    "from langchain_core.output_parsers import JsonOutputParser\n",
    "\n",
    "json_parser = JsonOutputParser()\n",
    "json_obj = json_parser.parse(res.content)\n",
    "\n",
    "json_obj"
   ]
  },
  {
   "cell_type": "code",
   "execution_count": null,
   "id": "74834e05",
   "metadata": {},
   "outputs": [],
   "source": [
    "# Getting the skills data to store in chromadb\n",
    "import pandas as pd\n",
    "\n",
    "df = pd.read_csv('skills.csv')\n",
    "df"
   ]
  },
  {
   "cell_type": "code",
   "execution_count": 79,
   "id": "a015a40c",
   "metadata": {},
   "outputs": [
    {
     "name": "stdout",
     "output_type": "stream",
     "text": [
      "['TechStack', 'Link1', 'Link2']\n"
     ]
    }
   ],
   "source": [
    "# Preparing the chromaDB as a persistent client to store the data on a disk so that we can access the same data later on without having to insert it again\n",
    "# using just client stores the data in-memory\n",
    "\n",
    "import chromadb\n",
    "import uuid\n",
    "\n",
    "client = chromadb.PersistentClient('vectorstore')\n",
    "collection = client.get_or_create_collection(name='Portfolio')\n",
    "print(df.columns.tolist())\n",
    "if not collection.count():\n",
    "    for _, row in df.iterrows():\n",
    "        primary_link = str(row['Link1']) if pd.notna(row['Link1']) else ''\n",
    "        secondary_link = str(row['Link2']) if pd.notna(row['Link2']) else ''\n",
    "        tech_stack = str(row['TechStack']) if pd.notna(row['TechStack']) else ''\n",
    "        collection.add(\n",
    "            documents=[tech_stack],\n",
    "            metadatas={\n",
    "                'primary_links': primary_link,\n",
    "                'secondary_links': secondary_link\n",
    "            },\n",
    "            ids=[str(uuid.uuid4())]\n",
    "        )"
   ]
  },
  {
   "cell_type": "code",
   "execution_count": null,
   "id": "7a998979",
   "metadata": {},
   "outputs": [],
   "source": [
    "print(collection.peek())\n",
    "# collection.delete(\n",
    "#     ids=['710bb5f3-b95f-4497-a816-611f3c569343', '32224923-7d2e-4075-a147-7d1fcaff0718', '920fff09-2502-409a-8a16-b80d841075e4', 'f19a6f6c-4090-4e58-9140-6ac2fa41edc7', 'a8f9b1b9-c0b6-45cc-a23e-985abb7eb2b8', '3950196c-92d0-4017-8262-d5a196a77638', '96d687ee-47c3-4892-800c-e6805ed01d75', 'd7664246-0a58-4db2-87bd-1ce50549e984', 'e20d5376-087e-493c-a645-f0fd73ecfc32', '6a4e31e7-a1a6-4c8d-8fbe-fe61b0589b62']\n",
    "# )\n",
    "collection.count()"
   ]
  },
  {
   "cell_type": "code",
   "execution_count": 85,
   "id": "a3d065ee",
   "metadata": {},
   "outputs": [
    {
     "name": "stdout",
     "output_type": "stream",
     "text": [
      "['Proven experience as a Python Developer', 'Strong proficiency in SQL and experience with database management systems', 'Experience in developing APIs using REST and SOAP', 'Hands-on experience with Linux, including shell scripting and system administration', 'Familiarity with version control systems like Git']\n",
      "\n"
     ]
    },
    {
     "data": {
      "text/plain": [
       "[[{'primary_links': ' https://github.com/anniechakraborty/simpleKanbanBackend',\n",
       "   'secondary_links': ' https://github.com/anniechakraborty/BookQuest'}],\n",
       " [{'primary_links': ' https://github.com/anniechakraborty/simpleKanbanBackend',\n",
       "   'secondary_links': ' https://github.com/anniechakraborty/BookQuest'}],\n",
       " [{'primary_links': ' https://github.com/anniechakraborty/BookQuest',\n",
       "   'secondary_links': ' https://github.com/anniechakraborty/BookQuest'}],\n",
       " [{'primary_links': ' https://github.com/anniechakraborty/simpleKanbanBackend',\n",
       "   'secondary_links': ' https://github.com/anniechakraborty/BookQuest'}],\n",
       " [{'secondary_links': ' https://github.com/anniechakraborty/BookQuest',\n",
       "   'primary_links': ' https://github.com/anniechakraborty/simpleKanbanBackend'}]]"
      ]
     },
     "execution_count": 85,
     "metadata": {},
     "output_type": "execute_result"
    }
   ],
   "source": [
    "# skills relevant to the job description\n",
    "print(json_obj['skills'])\n",
    "print()\n",
    "\n",
    "links = collection.query(\n",
    "    query_texts=json_obj['skills'],\n",
    "    n_results=1\n",
    ").get('metadatas')\n",
    "\n",
    "links"
   ]
  },
  {
   "cell_type": "code",
   "execution_count": 84,
   "id": "7d479688",
   "metadata": {},
   "outputs": [
    {
     "name": "stdout",
     "output_type": "stream",
     "text": [
      "Subject: Expert Python Development Services for Tata Consultancy Services\n",
      "\n",
      "Dear Hiring Manager,\n",
      "\n",
      "I came across the job posting for a Python Developer at Tata Consultancy Services in Ames, IA, and I'm excited to introduce AtliQ, an AI & Software Consulting company that can fulfill your development needs. Our team of experts has a proven track record of delivering high-quality solutions that meet the exact requirements of our clients.\n",
      "\n",
      "At AtliQ, we pride ourselves on our ability to write clean, efficient, and well-documented code, which aligns perfectly with your job requirements. Our developers possess excellent problem-solving skills and attention to detail, ensuring that our solutions are robust and reliable. We also emphasize strong communication skills and teamwork, allowing us to collaborate seamlessly with your team.\n",
      "\n",
      "Our understanding of Agile development methodologies enables us to adapt to your project's unique needs and deliver results quickly. We've empowered numerous enterprises with tailored solutions, fostering scalability, process optimization, cost reduction, and heightened overall efficiency.\n",
      "\n",
      "To demonstrate our capabilities, I'd like to share some examples from our portfolio:\n",
      "\n",
      "* https://github.com/anniechakraborty/simpleKanbanBackend: A simple Kanban board backend implementation showcasing our expertise in Python development.\n",
      "* https://github.com/anniechakraborty/BookQuest: A book quest project highlighting our ability to design and develop efficient software solutions.\n",
      "\n",
      "I'd be delighted to discuss how AtliQ can support your Python development needs and provide a customized solution for your project. Please feel free to contact me to explore this opportunity further.\n",
      "\n",
      "Best regards,\n",
      "\n",
      "Mohan\n",
      "Business Development Executive\n",
      "AtliQ\n"
     ]
    }
   ],
   "source": [
    "job_desc = json_obj['description']\n",
    "job_tasks = json_obj['tasks']\n",
    "\n",
    "prompt_email = PromptTemplate.from_template(\n",
    "        \"\"\"\n",
    "        ### JOB DESCRIPTION:\n",
    "        {job_desc}\n",
    "        and TASKS:\n",
    "        {job_tasks}\n",
    "        ### INSTRUCTION:\n",
    "        You are Mohan, a business development executive at AtliQ. AtliQ is an AI & Software Consulting company dedicated to facilitating\n",
    "        the seamless integration of business processes through automated tools. \n",
    "        Over our experience, we have empowered numerous enterprises with tailored solutions, fostering scalability, \n",
    "        process optimization, cost reduction, and heightened overall efficiency. \n",
    "        Your job is to write a cold email to the client regarding the job mentioned above describing the capability of AtliQ \n",
    "        in fulfilling their needs.\n",
    "        Also add the most relevant ones from the following links to showcase Atliq's portfolio: {links}\n",
    "        Remember you are Mohan, BDE at AtliQ. \n",
    "        Do not provide a preamble.\n",
    "        ### EMAIL (NO PREAMBLE):\n",
    "        \n",
    "        \"\"\"\n",
    "        )\n",
    "\n",
    "chain_email = prompt_email | llm\n",
    "res = chain_email.invoke({\"job_desc\": str(job_desc), 'job_tasks': job_tasks, \"links\": links})\n",
    "print(res.content)"
   ]
  },
  {
   "cell_type": "code",
   "execution_count": null,
   "id": "8ce2ec22",
   "metadata": {},
   "outputs": [],
   "source": []
  }
 ],
 "metadata": {
  "kernelspec": {
   "display_name": "venv",
   "language": "python",
   "name": "python3"
  },
  "language_info": {
   "codemirror_mode": {
    "name": "ipython",
    "version": 3
   },
   "file_extension": ".py",
   "mimetype": "text/x-python",
   "name": "python",
   "nbconvert_exporter": "python",
   "pygments_lexer": "ipython3",
   "version": "3.13.1"
  }
 },
 "nbformat": 4,
 "nbformat_minor": 5
}
