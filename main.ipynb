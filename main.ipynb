{
 "cells": [
  {
   "cell_type": "code",
   "execution_count": 2,
   "id": "d0a3e306",
   "metadata": {},
   "outputs": [
    {
     "name": "stderr",
     "output_type": "stream",
     "text": [
      "USER_AGENT environment variable not set, consider setting it to identify your requests.\n"
     ]
    }
   ],
   "source": [
    "from langchain_community.document_loaders import WebBaseLoader\n",
    "\n",
    "loader = WebBaseLoader(\"https://www.linkedin.com/jobs/view/4214589033\")"
   ]
  },
  {
   "cell_type": "code",
   "execution_count": 3,
   "id": "0068abc7",
   "metadata": {},
   "outputs": [
    {
     "data": {
      "text/plain": [
       "'\\n\\n\\n\\n \\n\\n\\n\\n\\n\\n\\n\\n\\n\\n\\nMercedes-Benz Mobility AG hiring Working Student in Data, Analytics and BI starting June 2025 in Stuttgart, Baden-Württemberg, Germany | LinkedIn\\n\\n\\n\\n\\n\\n\\n\\n\\n\\n\\n\\n\\n\\n\\n\\n\\n\\n\\n\\n\\n\\n\\n\\n \\n\\n\\n\\n \\n\\n\\n\\n\\n\\n\\n\\n\\n\\n\\n\\n\\n\\n \\n\\nLinkedIn and 3rd parties use essential and non-essential cookies to provide, secure, analyze and improve our Services, and to show you relevant ads (including professional and job ads) on and off LinkedIn. Learn more in our Cookie Policy.Select Accept to consent or Reject to decline non-essential cookies for this use. You can update your choices at any time in your settings.\\n\\n\\n\\n\\n                Accept\\n                \\n\\n                Reject\\n                \\n\\n\\n \\n\\n\\n\\n\\n\\n      Skip to main content\\n    \\n\\n\\n\\nLinkedIn\\n\\n\\n\\n\\n\\n\\n\\n              Working Student in Data, Analytics and BI starting June 2025 in Stuttgart\\n \\nExpand search\\n\\n\\n\\n\\n\\n\\nThis button displays the currently selected search type. When expanded it provides a list of search options that will switch the search inputs to match the current selection. \\n \\n\\n\\n\\n                        Jobs\\n                    \\n\\n\\n\\n                        People\\n                    \\n\\n\\n\\n                        Learning\\n                    \\n\\n\\n\\n\\n\\n\\n\\n\\n\\n\\n\\n\\nClear text\\n\\n\\n\\n\\n\\n\\nClear text\\n\\n\\n\\n\\n\\n\\n\\n\\n\\n\\n\\n\\n\\n\\n\\n\\n \\n\\n\\n\\n\\n\\nClear text\\n\\n\\n\\n\\n\\n\\n\\n\\n\\n \\n\\n\\n\\n\\n\\nClear text\\n\\n\\n\\n\\n\\n\\n\\n\\n\\n\\n\\n\\n\\n\\n\\nClear text\\n\\n\\n\\n\\n\\n\\n\\n\\n\\n\\n\\n\\n\\n\\n\\n\\n      Join now\\n    \\n\\n          Sign in\\n      \\n\\n\\n\\n\\n\\n \\n\\n\\n\\n\\n\\n\\n\\n\\n\\n\\nWorking Student in Data, Analytics and BI starting June 2025\\n\\nMercedes-Benz Mobility AG\\nStuttgart, Baden-Württemberg, Germany\\n\\n\\n\\n\\n\\n\\n\\n\\n\\n\\n\\n\\nWorking Student in Data, Analytics and BI starting June 2025\\n\\n\\n\\n\\n\\n\\n                Mercedes-Benz Mobility AG\\n              \\n\\n\\n              Stuttgart, Baden-Württemberg, Germany\\n            \\n\\n\\n\\n          \\n\\n    \\n    \\n    \\n    \\n    \\n    \\n    \\n    \\n    \\n    \\n    \\n    \\n    \\n    \\n    \\n    \\n\\n    \\n    \\n    \\n    \\n    \\n    \\n    \\n    \\n    \\n    \\n    \\n    \\n    \\n    \\n\\n      1 month ago\\n  \\n        \\n\\n          50 applicants\\n        \\n\\n\\n\\n\\n\\n\\n\\n\\n          See who Mercedes-Benz Mobility AG has hired for this role\\n        \\n\\n\\n\\n\\n\\n\\n\\n\\n \\n\\n\\n\\n\\n\\n\\n\\n\\n\\n\\n\\n                      Report this job\\n                    \\n    \\n\\n\\n\\n\\n \\n\\n\\n\\n\\nUse AI to assess how you fit\\nGet AI-powered advice on this job and more exclusive features.\\n\\n\\n\\n\\n\\n\\nAm I a good fit for this job?\\n\\n\\n\\nTailor my resume\\n\\n\\n\\n\\n\\n\\n\\n \\n\\n\\n\\n\\n\\n\\n\\n\\n                Sign in to access AI-powered advices\\n              \\n \\n\\n\\n\\n \\n \\n\\n\\n\\n              Sign in\\n          \\n\\n\\n\\n \\n\\n\\n\\n\\n\\n\\n\\n                Welcome back\\n            \\n\\n\\n\\n\\n\\n\\n\\n\\n\\n\\n \\n\\n\\n\\n\\n\\n          Email or phone\\n        \\n\\n\\n\\n\\n\\n\\n\\n\\n\\n          Password\\n        \\n\\n\\nShow\\n\\n\\n\\n\\n\\n \\n\\nForgot password?\\n\\n\\n\\n          Sign in\\n        \\n\\n\\n\\n              or\\n            \\n\\n\\n\\n\\n\\n      By clicking Continue to join or sign in, you agree to LinkedIn’s User Agreement, Privacy Policy, and Cookie Policy.\\n    \\n\\n \\n\\n\\n\\n                New to LinkedIn? Join now\\n\\n\\n\\n \\n\\n\\n\\n\\n\\n\\n                        or\\n                      \\n\\n\\n\\n                  New to LinkedIn? Join now\\n\\n\\n      By clicking Continue to join or sign in, you agree to LinkedIn’s User Agreement, Privacy Policy, and Cookie Policy.\\n    \\n\\n\\n \\n\\n\\n\\n\\n\\n\\n\\n\\n\\n \\n\\n\\n\\n\\n\\n\\n\\n\\n                Sign in to evaluate your skills\\n              \\n \\n\\n\\n\\n \\n \\n\\n\\n\\n              Sign in\\n          \\n\\n\\n\\n \\n\\n\\n\\n\\n\\n\\n\\n                Welcome back\\n            \\n\\n\\n\\n\\n\\n\\n\\n\\n\\n\\n \\n\\n\\n\\n\\n\\n          Email or phone\\n        \\n\\n\\n\\n\\n\\n\\n\\n\\n\\n          Password\\n        \\n\\n\\nShow\\n\\n\\n\\n\\n\\n \\n\\nForgot password?\\n\\n\\n\\n          Sign in\\n        \\n\\n\\n\\n              or\\n            \\n\\n\\n\\n\\n\\n      By clicking Continue to join or sign in, you agree to LinkedIn’s User Agreement, Privacy Policy, and Cookie Policy.\\n    \\n\\n \\n\\n\\n\\n                New to LinkedIn? Join now\\n\\n\\n\\n \\n\\n\\n\\n\\n\\n\\n                        or\\n                      \\n\\n\\n\\n                  New to LinkedIn? Join now\\n\\n\\n      By clicking Continue to join or sign in, you agree to LinkedIn’s User Agreement, Privacy Policy, and Cookie Policy.\\n    \\n\\n\\n \\n\\n\\n\\n\\n\\n\\n\\n\\n\\n \\n\\n\\n\\n\\n\\n\\n\\n\\n                Sign in to tailor your resume\\n              \\n \\n\\n\\n\\n \\n \\n\\n\\n\\n              Sign in\\n          \\n\\n\\n\\n \\n\\n\\n\\n\\n\\n\\n\\n                Welcome back\\n            \\n\\n\\n\\n\\n\\n\\n\\n\\n\\n\\n \\n\\n\\n\\n\\n\\n          Email or phone\\n        \\n\\n\\n\\n\\n\\n\\n\\n\\n\\n          Password\\n        \\n\\n\\nShow\\n\\n\\n\\n\\n\\n \\n\\nForgot password?\\n\\n\\n\\n          Sign in\\n        \\n\\n\\n\\n              or\\n            \\n\\n\\n\\n\\n\\n      By clicking Continue to join or sign in, you agree to LinkedIn’s User Agreement, Privacy Policy, and Cookie Policy.\\n    \\n\\n \\n\\n\\n\\n                New to LinkedIn? Join now\\n\\n\\n\\n \\n\\n\\n\\n\\n\\n\\n                        or\\n                      \\n\\n\\n\\n                  New to LinkedIn? Join now\\n\\n\\n      By clicking Continue to join or sign in, you agree to LinkedIn’s User Agreement, Privacy Policy, and Cookie Policy.\\n    \\n\\n\\n \\n\\n\\n\\n\\n\\n\\n\\n\\n\\n\\n\\n\\n\\n\\n\\n\\n\\n\\n\\n          AufgabenMercedes-Benz Mobility\\'s (MBM) Data, Analytics & BI department operates and develops the MBM-wide, cloud-based Data Lake & Advanced Analytics platform Spire. We are one of the main drivers of the company-wide digital transformation by onboarding further global markets and offering E2E (End-to-End) Advanced Analytics products. The department is also home to many BI reporting systems, the HQ data warehouse and smart solutions – like an AI-basedforecasting software – which is already shaping the future of the Finance & Controlling area. In addition, we take on the higher-level function of the Data Office for MBM and play the leading role in numerous cross-organizational projects that focus on digitizing business processes.The team Data Platform Governance is responsible for the further development, standardization and operation of the Spire platform and acts as a key enabler for the onboarding of MBM markets data and products into the cloud environment in close cooperation with the Platforms Methods and Analytics team and the respective IT teams. Hence, we are looking for a data enthusiast who is detail-oriented, results-driven, and analytical with excellent communication skills. You will be part of the Spire team by further developing the existing requirements and guidelines to enable customers to join the Spire cloud analytics platform.Your tasks will be:Understand Mercedes-Benz internal and external requirements for secure and compliant data transfer in the cloudDevelop an understanding of our customers\\' data solutions and requirementsCoordinate and communicate effectively with both the team and customersAdhere to rule processes, including the thorough review of documents and deliverablesDocument relevant information and maintain accurate records of compliance activitiesAssist in the continuous improvement of compliance procedures and processesSupport the team in identifying and resolving compliance-related issuesQualifikationenCurrently enrolled as a student in a relevant fieldDemonstrates a conscientious and diligent work ethicEager to learn and expand knowledge in data-related areasProactive thinker with a creative approach to problem-solvingExperience with MS Office suite (Word, Excel, PowerPoint) is preferredFamiliarity with JIRA is a plusStrong communication skills and ability to work collaboratively in a team environment Interest in exploring and understanding the world of dataAdditional information:It doesn’t work completely without formalities. When sending your online application, please attach your CV, certificate of enrollment, current performance record, relevant certificates, if applicable proof of mandatory internship and the standard period of study (max. 5 MB) and mark your application documents as \"relevant for this application\" in the online form.Please find the criteria of employment \"here\".Citizens of countries outside the European Trade Union please send, if applicable, your residence / work permit.We particularly welcome online applications from candidates with disabilities or similar impairments in direct response to this job advertisement. If you have any questions, you can contact the local disability officer once you have submitted your application form, who will gladly assist you in the onward application process: sbv@mercedes-benz.comPlease understand that we no longer accept paper applications and that there is no right to get your documents returned.If you have any questions regarding the application process, please contact HR Services by contact form or by phone: 0711/17-99000 (Monday to Friday between 10 a.m. to 12 a.m. and 1 p.m. to 3 p.m.).BenefitsMit\\xadarbeiter\\xadrabatte möglichEssens\\xadzulagenBetrieb\\xadliche Alters\\xadver\\xadsorgungMit\\xadarbeiter\\xadbeteili\\xadgung möglichHybrides Arbeiten möglichMit\\xadarbeiter\\xadhandy möglichGesund\\xadheits\\xadmaß\\xadnahmenFlexible Arbeits\\xadzeit möglichMit\\xadarbeiter EventsMobilitäts\\xadangeboteLebens\\xadlanges LernenGute An\\xadbindungPark\\xadplatzKantine, CaféBetriebs\\xadarztBarriere\\xadfrei\\xadheitKontaktMercedes-Benz Mobility AGSiemensstraße 770469 StuttgartDetails zum StandortFabian Krutten E-Mail: fabian.krutten@mercedes-benz.comBewerben\\n        \\n\\n\\n        \\n            Show more\\n          \\n\\n          \\n\\n\\n\\n        \\n            Show less\\n          \\n\\n          \\n\\n \\n\\n\\n\\n\\n            Seniority level\\n          \\n\\n            Internship\\n          \\n\\n\\n\\n            Employment type\\n          \\n\\n            Internship\\n          \\n\\n\\n\\n              Job function\\n            \\n\\n              Education and Training\\n            \\n\\n\\n\\n              Industries\\n            \\n\\n            Financial Services\\n            \\n\\n\\n\\n\\n\\n\\n\\n\\n\\n\\n\\n\\n\\n\\n\\n\\nReferrals increase your chances of interviewing at Mercedes-Benz Mobility AG by 2x\\n\\n                See who you know\\n              \\n\\n\\n\\n\\n \\n\\n\\n\\n\\nGet notified when a new job is posted.\\n\\n\\n\\n\\n            Set alert\\n          \\n\\n\\n\\n\\n\\n\\n\\n \\n\\n\\n\\n\\n\\n\\n\\n\\n                Sign in to set job alerts for “Student Staff” roles.\\n              \\n \\n\\n\\n\\n \\n \\n\\n\\n\\n              Sign in\\n          \\n\\n\\n\\n \\n\\n\\n\\n\\n\\n\\n\\n                Welcome back\\n            \\n\\n\\n\\n\\n\\n\\n\\n\\n\\n\\n \\n\\n\\n\\n\\n\\n          Email or phone\\n        \\n\\n\\n\\n\\n\\n\\n\\n\\n\\n          Password\\n        \\n\\n\\nShow\\n\\n\\n\\n\\n\\n \\n\\nForgot password?\\n\\n\\n\\n          Sign in\\n        \\n\\n\\n\\n              or\\n            \\n\\n\\n\\n\\n\\n      By clicking Continue to join or sign in, you agree to LinkedIn’s User Agreement, Privacy Policy, and Cookie Policy.\\n    \\n\\n \\n\\n\\n\\n                New to LinkedIn? Join now\\n\\n\\n\\n \\n\\n\\n\\n\\n\\n\\n                        or\\n                      \\n\\n\\n\\n                  New to LinkedIn? Join now\\n\\n\\n      By clicking Continue to join or sign in, you agree to LinkedIn’s User Agreement, Privacy Policy, and Cookie Policy.\\n    \\n\\n\\n \\n\\n\\n\\n\\n\\n\\n\\n\\n\\n\\n\\n\\n            Similar jobs\\n          \\n\\n\\n\\n\\n\\n\\n\\n\\n\\n              \\n          \\n        Working Student Global Marketing (m/f/d)\\n      \\n      \\n          \\n\\n\\n\\n \\n            \\n        Working Student Global Marketing (m/f/d)\\n      \\n          \\n\\n\\n            HUGO BOSS\\n          \\n\\n\\n\\n\\n            Metzingen, Baden-Württemberg, Germany\\n          \\n\\n\\n            \\n\\n    \\n    \\n    \\n    \\n    \\n    \\n    \\n    \\n    \\n    \\n    \\n    \\n    \\n    \\n    \\n    \\n\\n    \\n    \\n    \\n    \\n    \\n    \\n    \\n    \\n    \\n    \\n    \\n    \\n    \\n    \\n\\n      3 days ago\\n  \\n          \\n\\n\\n \\n\\n\\n\\n\\n\\n\\n\\n              \\n          \\n        Working Student Global eCommerce Planning (m/f/d)\\n      \\n      \\n          \\n\\n\\n\\n \\n            \\n        Working Student Global eCommerce Planning (m/f/d)\\n      \\n          \\n\\n\\n            HUGO BOSS\\n          \\n\\n\\n\\n\\n            Metzingen, Baden-Württemberg, Germany\\n          \\n\\n\\n            \\n\\n    \\n    \\n    \\n    \\n    \\n    \\n    \\n    \\n    \\n    \\n    \\n    \\n    \\n    \\n    \\n    \\n\\n    \\n    \\n    \\n    \\n    \\n    \\n    \\n    \\n    \\n    \\n    \\n    \\n    \\n    \\n\\n      2 weeks ago\\n  \\n          \\n\\n\\n \\n\\n\\n\\n\\n\\n\\n\\n              \\n          \\n        Intern/Working Student (m/f/d) Graphic Design\\n      \\n      \\n          \\n\\n\\n\\n \\n            \\n        Intern/Working Student (m/f/d) Graphic Design\\n      \\n          \\n\\n\\n            AnyDesk Software\\n          \\n\\n\\n\\n\\n            Stuttgart, Baden-Württemberg, Germany\\n          \\n\\n\\n            \\n\\n    \\n    \\n    \\n    \\n    \\n    \\n    \\n    \\n    \\n    \\n    \\n    \\n    \\n    \\n    \\n    \\n\\n    \\n    \\n    \\n    \\n    \\n    \\n    \\n    \\n    \\n    \\n    \\n    \\n    \\n    \\n\\n      3 days ago\\n  \\n          \\n\\n\\n \\n\\n\\n\\n\\n\\n\\n\\n              \\n          \\n        Work Student/ Intern, Software Quality Assurance (all genders)\\n      \\n      \\n          \\n\\n\\n\\n \\n            \\n        Work Student/ Intern, Software Quality Assurance (all genders)\\n      \\n          \\n\\n\\n            TeamViewer\\n          \\n\\n\\n\\n\\n            Stuttgart, Baden-Württemberg, Germany\\n          \\n\\n\\n            \\n\\n    \\n    \\n    \\n    \\n    \\n    \\n    \\n    \\n    \\n    \\n    \\n    \\n    \\n    \\n    \\n    \\n\\n    \\n    \\n    \\n    \\n    \\n    \\n    \\n    \\n    \\n    \\n    \\n    \\n    \\n    \\n\\n      1 week ago\\n  \\n          \\n\\n\\n \\n\\n\\n\\n\\n\\n\\n\\n              \\n          \\n        Working Student Marketing & Capability Building (m/f/d)\\n      \\n      \\n          \\n\\n\\n\\n \\n            \\n        Working Student Marketing & Capability Building (m/f/d)\\n      \\n          \\n\\n\\n            Philips\\n          \\n\\n\\n\\n\\n            Böblingen, Baden-Württemberg, Germany\\n          \\n\\n\\n            \\n\\n    \\n    \\n    \\n    \\n    \\n    \\n    \\n    \\n    \\n    \\n    \\n    \\n    \\n    \\n    \\n    \\n\\n    \\n    \\n    \\n    \\n    \\n    \\n    \\n    \\n    \\n    \\n    \\n    \\n    \\n    \\n\\n      1 week ago\\n  \\n          \\n\\n\\n \\n\\n\\n\\n\\n\\n\\n\\n              \\n          \\n        Apply here as a mandatory intern\\n      \\n      \\n          \\n\\n\\n\\n \\n            \\n        Apply here as a mandatory intern\\n      \\n          \\n\\n\\n            Fraunhofer Karriere\\n          \\n\\n\\n\\n\\n            Stuttgart, Baden-Württemberg, Germany\\n          \\n\\n\\n            \\n\\n    \\n    \\n    \\n    \\n    \\n    \\n    \\n    \\n    \\n    \\n    \\n    \\n    \\n    \\n    \\n    \\n\\n    \\n    \\n    \\n    \\n    \\n    \\n    \\n    \\n    \\n    \\n    \\n    \\n    \\n    \\n\\n      5 months ago\\n  \\n          \\n\\n\\n \\n\\n\\n\\n\\n\\n\\n\\n              \\n          \\n        Intern/Working Student (m/f/d) Technical Content Writing\\n      \\n      \\n          \\n\\n\\n\\n \\n            \\n        Intern/Working Student (m/f/d) Technical Content Writing\\n      \\n          \\n\\n\\n            AnyDesk Software\\n          \\n\\n\\n\\n\\n            Stuttgart, Baden-Württemberg, Germany\\n          \\n\\n\\n            \\n\\n    \\n    \\n    \\n    \\n    \\n    \\n    \\n    \\n    \\n    \\n    \\n    \\n    \\n    \\n    \\n    \\n\\n    \\n    \\n    \\n    \\n    \\n    \\n    \\n    \\n    \\n    \\n    \\n    \\n    \\n    \\n\\n      1 day ago\\n  \\n          \\n\\n\\n \\n\\n\\n\\n\\n\\n\\n\\n              \\n          \\n        AMG Praktikanten Entwicklung Triebstrang ab September 2025 (m/w/d)\\n      \\n      \\n          \\n\\n\\n\\n \\n            \\n        AMG Praktikanten Entwicklung Triebstrang ab September 2025 (m/w/d)\\n      \\n          \\n\\n\\n            Mercedes-AMG GmbH\\n          \\n\\n\\n\\n\\n            Stuttgart, Baden-Württemberg, Germany\\n          \\n\\n\\n            \\n\\n    \\n    \\n    \\n    \\n    \\n    \\n    \\n    \\n    \\n    \\n    \\n    \\n    \\n    \\n    \\n    \\n\\n    \\n    \\n    \\n    \\n    \\n    \\n    \\n    \\n    \\n    \\n    \\n    \\n    \\n    \\n\\n      1 month ago\\n  \\n          \\n\\n\\n \\n\\n\\n\\n\\n\\n\\n\\n              \\n          \\n        Working Student Global Marketing (m/f/d)\\n      \\n      \\n          \\n\\n\\n\\n \\n            \\n        Working Student Global Marketing (m/f/d)\\n      \\n          \\n\\n\\n            BoF Careers\\n          \\n\\n\\n\\n\\n            Metzingen, Baden-Württemberg, Germany\\n          \\n\\n\\n            \\n\\n    \\n    \\n    \\n    \\n    \\n    \\n    \\n    \\n    \\n    \\n    \\n    \\n    \\n    \\n    \\n    \\n\\n    \\n    \\n    \\n    \\n    \\n    \\n    \\n    \\n    \\n    \\n    \\n    \\n    \\n    \\n\\n      3 weeks ago\\n  \\n          \\n\\n\\n \\n\\n\\n\\n\\n\\n\\n\\n              \\n          \\n        Working Student R&D and Quality (m/f/d) Weller\\n      \\n      \\n          \\n\\n\\n\\n \\n            \\n        Working Student R&D and Quality (m/f/d) Weller\\n      \\n          \\n\\n\\n            Apex Tool Group, LLC\\n          \\n\\n\\n\\n\\n            Besigheim, Baden-Württemberg, Germany\\n          \\n\\n\\n            \\n\\n    \\n    \\n    \\n    \\n    \\n    \\n    \\n    \\n    \\n    \\n    \\n    \\n    \\n    \\n    \\n    \\n\\n    \\n    \\n    \\n    \\n    \\n    \\n    \\n    \\n    \\n    \\n    \\n    \\n    \\n    \\n\\n      1 week ago\\n  \\n          \\n\\n\\n \\n\\n\\n\\n\\n\\n\\n\\n              \\n          \\n        Working Student CRM Campaigning (m/w/d)\\n      \\n      \\n          \\n\\n\\n\\n \\n            \\n        Working Student CRM Campaigning (m/w/d)\\n      \\n          \\n\\n\\n            HUGO BOSS\\n          \\n\\n\\n\\n\\n            Metzingen, Baden-Württemberg, Germany\\n          \\n\\n\\n            \\n\\n    \\n    \\n    \\n    \\n    \\n    \\n    \\n    \\n    \\n    \\n    \\n    \\n    \\n    \\n    \\n    \\n\\n    \\n    \\n    \\n    \\n    \\n    \\n    \\n    \\n    \\n    \\n    \\n    \\n    \\n    \\n\\n      1 day ago\\n  \\n          \\n\\n\\n \\n\\n\\n\\n\\n\\n\\n\\n              \\n          \\n        Student Bauingenieurwesen im Praxissemester (m/w/d)\\n      \\n      \\n          \\n\\n\\n\\n \\n            \\n        Student Bauingenieurwesen im Praxissemester (m/w/d)\\n      \\n          \\n\\n\\n            MPS ARCHONIC\\n          \\n\\n\\n\\n\\n            Bietigheim, Baden-Württemberg, Germany\\n          \\n\\n\\n            \\n\\n    \\n    \\n    \\n    \\n    \\n    \\n    \\n    \\n    \\n    \\n    \\n    \\n    \\n    \\n    \\n    \\n\\n    \\n    \\n    \\n    \\n    \\n    \\n    \\n    \\n    \\n    \\n    \\n    \\n    \\n    \\n\\n      3 months ago\\n  \\n          \\n\\n\\n \\n\\n\\n\\n\\n\\n\\n\\n              \\n          \\n        Praktikum in der Arbeitsvorbereitung/ Prozessplanung Prototypen-Aggregate in der Globalen (e)Powertrain Entwicklung ab März/April 2025\\n      \\n      \\n          \\n\\n\\n\\n \\n            \\n        Praktikum in der Arbeitsvorbereitung/ Prozessplanung Prototypen-Aggregate in der Globalen (e)Powertrain Entwicklung ab März/April 2025\\n      \\n          \\n\\n\\n            TieTalent\\n          \\n\\n\\n\\n\\n            Stuttgart, Baden-Württemberg, Germany\\n          \\n\\n\\n            \\n\\n    \\n    \\n    \\n    \\n    \\n    \\n    \\n    \\n    \\n    \\n    \\n    \\n    \\n    \\n    \\n    \\n\\n    \\n    \\n    \\n    \\n    \\n    \\n    \\n    \\n    \\n    \\n    \\n    \\n    \\n    \\n\\n      2 months ago\\n  \\n          \\n\\n\\n \\n\\n\\n\\n\\n\\n\\n\\n              \\n          \\n        Praktika, Vorpraktika, Bachelorarbeiten, etc\\n      \\n      \\n          \\n\\n\\n\\n \\n            \\n        Praktika, Vorpraktika, Bachelorarbeiten, etc\\n      \\n          \\n\\n\\n            Stuttgarter Straßenbahnen AG\\n          \\n\\n\\n\\n\\n            Stuttgart, Baden-Württemberg, Germany\\n          \\n\\n\\n            \\n\\n    \\n    \\n    \\n    \\n    \\n    \\n    \\n    \\n    \\n    \\n    \\n    \\n    \\n    \\n    \\n    \\n\\n    \\n    \\n    \\n    \\n    \\n    \\n    \\n    \\n    \\n    \\n    \\n    \\n    \\n    \\n\\n      1 week ago\\n  \\n          \\n\\n\\n \\n\\n\\n\\n\\n\\n\\n\\n              \\n          \\n        Working Student Global eCommerce Planning (m/f/d)\\n      \\n      \\n          \\n\\n\\n\\n \\n            \\n        Working Student Global eCommerce Planning (m/f/d)\\n      \\n          \\n\\n\\n            BoF Careers\\n          \\n\\n\\n\\n\\n            Metzingen, Baden-Württemberg, Germany\\n          \\n\\n\\n            \\n\\n    \\n    \\n    \\n    \\n    \\n    \\n    \\n    \\n    \\n    \\n    \\n    \\n    \\n    \\n    \\n    \\n\\n    \\n    \\n    \\n    \\n    \\n    \\n    \\n    \\n    \\n    \\n    \\n    \\n    \\n    \\n\\n      2 months ago\\n  \\n          \\n\\n\\n \\n\\n\\n\\n\\n\\n\\n\\n              \\n          \\n        AMG Praktikanten Gewichtsmanagement ab September 2025 (m/w/d)\\n      \\n      \\n          \\n\\n\\n\\n \\n            \\n        AMG Praktikanten Gewichtsmanagement ab September 2025 (m/w/d)\\n      \\n          \\n\\n\\n            Mercedes-AMG GmbH\\n          \\n\\n\\n\\n\\n            Stuttgart, Baden-Württemberg, Germany\\n          \\n\\n\\n            \\n\\n    \\n    \\n    \\n    \\n    \\n    \\n    \\n    \\n    \\n    \\n    \\n    \\n    \\n    \\n    \\n    \\n\\n    \\n    \\n    \\n    \\n    \\n    \\n    \\n    \\n    \\n    \\n    \\n    \\n    \\n    \\n\\n      2 days ago\\n  \\n          \\n\\n\\n \\n\\n\\n\\n\\n\\n\\n\\n              \\n          \\n        Schülerpraktikum\\n      \\n      \\n          \\n\\n\\n\\n \\n            \\n        Schülerpraktikum\\n      \\n          \\n\\n\\n            IHK Nordschwarzwald\\n          \\n\\n\\n\\n\\n            Pforzheim, Baden-Württemberg, Germany\\n          \\n\\n\\n            \\n\\n    \\n    \\n    \\n    \\n    \\n    \\n    \\n    \\n    \\n    \\n    \\n    \\n    \\n    \\n    \\n    \\n\\n    \\n    \\n    \\n    \\n    \\n    \\n    \\n    \\n    \\n    \\n    \\n    \\n    \\n    \\n\\n      2 months ago\\n  \\n          \\n\\n\\n \\n\\n\\n\\n\\n\\n\\n\\n              \\n          \\n        Praktikum Studenten (m/w/d)\\n      \\n      \\n          \\n\\n\\n\\n \\n            \\n        Praktikum Studenten (m/w/d)\\n      \\n          \\n\\n\\n            ALDI SÜD\\n          \\n\\n\\n\\n\\n            Aichtal, Baden-Württemberg, Germany\\n          \\n\\n\\n            \\n\\n    \\n    \\n    \\n    \\n    \\n    \\n    \\n    \\n    \\n    \\n    \\n    \\n    \\n    \\n    \\n    \\n\\n    \\n    \\n    \\n    \\n    \\n    \\n    \\n    \\n    \\n    \\n    \\n    \\n    \\n    \\n\\n      1 month ago\\n  \\n          \\n\\n\\n \\n\\n\\n\\n\\n\\n\\n\\n              \\n          \\n        Praktikum Studenten (m/w/d)\\n      \\n      \\n          \\n\\n\\n\\n \\n            \\n        Praktikum Studenten (m/w/d)\\n      \\n          \\n\\n\\n            ALDI SÜD\\n          \\n\\n\\n\\n\\n            Steinheim an der Murr, Baden-Württemberg, Germany\\n          \\n\\n\\n            \\n\\n    \\n    \\n    \\n    \\n    \\n    \\n    \\n    \\n    \\n    \\n    \\n    \\n    \\n    \\n    \\n    \\n\\n    \\n    \\n    \\n    \\n    \\n    \\n    \\n    \\n    \\n    \\n    \\n    \\n    \\n    \\n\\n      1 month ago\\n  \\n          \\n\\n\\n \\n\\n\\n\\n\\n\\n\\n\\n              \\n          \\n        Schülerpraktikum 2025\\n      \\n      \\n          \\n\\n\\n\\n \\n            \\n        Schülerpraktikum 2025\\n      \\n          \\n\\n\\n            SCHUNK - Hand in hand for tomorrow\\n          \\n\\n\\n\\n\\n            Lauffen am Neckar, Baden-Württemberg, Germany\\n          \\n\\n\\n            \\n\\n    \\n    \\n    \\n    \\n    \\n    \\n    \\n    \\n    \\n    \\n    \\n    \\n    \\n    \\n    \\n    \\n\\n    \\n    \\n    \\n    \\n    \\n    \\n    \\n    \\n    \\n    \\n    \\n    \\n    \\n    \\n\\n      1 month ago\\n  \\n          \\n\\n\\n \\n\\n\\n\\n\\n\\n\\n\\n              \\n          \\n        Praktikum im Versuch / Internship Testing\\n      \\n      \\n          \\n\\n\\n\\n \\n            \\n        Praktikum im Versuch / Internship Testing\\n      \\n          \\n\\n\\n            Kärcher\\n          \\n\\n\\n\\n\\n            Schwaikheim, Baden-Württemberg, Germany\\n          \\n\\n\\n            \\n\\n    \\n    \\n    \\n    \\n    \\n    \\n    \\n    \\n    \\n    \\n    \\n    \\n    \\n    \\n    \\n    \\n\\n    \\n    \\n    \\n    \\n    \\n    \\n    \\n    \\n    \\n    \\n    \\n    \\n    \\n    \\n\\n      1 week ago\\n  \\n          \\n\\n\\n \\n\\n\\n\\n\\n\\n\\n\\n              \\n          \\n        AMG Praktikanten Gesamtfahrzeugversuch ab August 2025 (m/w/d)\\n      \\n      \\n          \\n\\n\\n\\n \\n            \\n        AMG Praktikanten Gesamtfahrzeugversuch ab August 2025 (m/w/d)\\n      \\n          \\n\\n\\n            Mercedes-AMG GmbH\\n          \\n\\n\\n\\n\\n            Stuttgart, Baden-Württemberg, Germany\\n          \\n\\n\\n            \\n\\n    \\n    \\n    \\n    \\n    \\n    \\n    \\n    \\n    \\n    \\n    \\n    \\n    \\n    \\n    \\n    \\n\\n    \\n    \\n    \\n    \\n    \\n    \\n    \\n    \\n    \\n    \\n    \\n    \\n    \\n    \\n\\n      1 week ago\\n  \\n          \\n\\n\\n \\n\\n\\n\\n\\n\\n\\n\\n              \\n          \\n        Praktikum in der Arbeitsvorbereitung/ Prozessplanung Prototypen-Aggregate in der Globalen (e)Powertrain Entwicklung ab September/Oktober 2025\\n      \\n      \\n          \\n\\n\\n\\n \\n            \\n        Praktikum in der Arbeitsvorbereitung/ Prozessplanung Prototypen-Aggregate in der Globalen (e)Powertrain Entwicklung ab September/Oktober 2025\\n      \\n          \\n\\n\\n            Daimler Truck AG\\n          \\n\\n\\n\\n\\n            Stuttgart, Baden-Württemberg, Germany\\n          \\n\\n\\n            \\n\\n    \\n    \\n    \\n    \\n    \\n    \\n    \\n    \\n    \\n    \\n    \\n    \\n    \\n    \\n    \\n    \\n\\n    \\n    \\n    \\n    \\n    \\n    \\n    \\n    \\n    \\n    \\n    \\n    \\n    \\n    \\n\\n      2 months ago\\n  \\n          \\n\\n\\n \\n\\n\\n\\n\\n\\n\\n\\n              \\n          \\n        Vorpraktikum 2025\\n      \\n      \\n          \\n\\n\\n\\n \\n            \\n        Vorpraktikum 2025\\n      \\n          \\n\\n\\n            SCHUNK - Hand in hand for tomorrow\\n          \\n\\n\\n\\n\\n            Lauffen am Neckar, Baden-Württemberg, Germany\\n          \\n\\n\\n            \\n\\n    \\n    \\n    \\n    \\n    \\n    \\n    \\n    \\n    \\n    \\n    \\n    \\n    \\n    \\n    \\n    \\n\\n    \\n    \\n    \\n    \\n    \\n    \\n    \\n    \\n    \\n    \\n    \\n    \\n    \\n    \\n\\n      1 month ago\\n  \\n          \\n\\n\\n \\n\\n\\n\\n\\n\\n\\n\\n              \\n          \\n        AMG Praktikanten Entwicklung AMG Track Pace ab September 2025 (m/w/d)\\n      \\n      \\n          \\n\\n\\n\\n \\n            \\n        AMG Praktikanten Entwicklung AMG Track Pace ab September 2025 (m/w/d)\\n      \\n          \\n\\n\\n            Mercedes-AMG GmbH\\n          \\n\\n\\n\\n\\n            Stuttgart, Baden-Württemberg, Germany\\n          \\n\\n\\n            \\n\\n    \\n    \\n    \\n    \\n    \\n    \\n    \\n    \\n    \\n    \\n    \\n    \\n    \\n    \\n    \\n    \\n\\n    \\n    \\n    \\n    \\n    \\n    \\n    \\n    \\n    \\n    \\n    \\n    \\n    \\n    \\n\\n      5 days ago\\n  \\n          \\n\\n\\n \\n\\n\\n\\n\\n\\n\\n\\n              \\n          \\n        Schülerpraktikum in Reutlingen\\n      \\n      \\n          \\n\\n\\n\\n \\n            \\n        Schülerpraktikum in Reutlingen\\n      \\n          \\n\\n\\n            KION Group\\n          \\n\\n\\n\\n\\n            Reutlingen, Baden-Württemberg, Germany\\n          \\n\\n\\n            \\n\\n    \\n    \\n    \\n    \\n    \\n    \\n    \\n    \\n    \\n    \\n    \\n    \\n    \\n    \\n    \\n    \\n\\n    \\n    \\n    \\n    \\n    \\n    \\n    \\n    \\n    \\n    \\n    \\n    \\n    \\n    \\n\\n      2 days ago\\n  \\n          \\n\\n\\n \\n\\n\\n\\n\\n\\n\\n\\n              \\n          \\n        Pflichtpraktikum\\n      \\n      \\n          \\n\\n\\n\\n \\n            \\n        Pflichtpraktikum\\n      \\n          \\n\\n\\n            ADMEDES\\n          \\n\\n\\n\\n\\n            Enzkreis, Baden-Württemberg, Germany\\n          \\n\\n\\n            \\n\\n    \\n    \\n    \\n    \\n    \\n    \\n    \\n    \\n    \\n    \\n    \\n    \\n    \\n    \\n    \\n    \\n\\n    \\n    \\n    \\n    \\n    \\n    \\n    \\n    \\n    \\n    \\n    \\n    \\n    \\n    \\n\\n      6 months ago\\n  \\n          \\n\\n\\n \\n\\n\\n\\n\\n\\n                \\n              Show more jobs like this\\n            \\n              \\n\\n\\n                \\n              Show fewer jobs like this\\n            \\n              \\n\\n\\n\\n\\n\\n\\n\\n\\n\\n              People also viewed\\n            \\n\\n\\n\\n\\n\\n\\n\\n\\n              \\n        \\n        AMG Praktikanten Entwicklung Fahrdynamik ab Oktober 2025 (m/w/d)\\n      \\n      \\n          \\n\\n\\n\\n\\n            \\n        AMG Praktikanten Entwicklung Fahrdynamik ab Oktober 2025 (m/w/d)\\n      \\n \\n\\n\\n            Mercedes-AMG GmbH\\n          \\n\\n\\n\\n\\n\\n            Stuttgart, Baden-Württemberg, Germany\\n          \\n\\n\\n            \\n\\n    \\n    \\n    \\n    \\n    \\n    \\n    \\n    \\n    \\n    \\n    \\n    \\n    \\n    \\n    \\n    \\n\\n    \\n    \\n    \\n    \\n    \\n    \\n    \\n    \\n    \\n    \\n    \\n    \\n    \\n    \\n\\n      3 weeks ago\\n  \\n          \\n\\n\\n \\n\\n\\n\\n\\n\\n\\n\\n\\n              \\n        \\n        AMG Praktikanten Gesamtfahrzeugversuch ab August 2025 (m/w/d)\\n      \\n      \\n          \\n\\n\\n\\n\\n            \\n        AMG Praktikanten Gesamtfahrzeugversuch ab August 2025 (m/w/d)\\n      \\n \\n\\n\\n            Mercedes-AMG GmbH\\n          \\n\\n\\n\\n\\n\\n            Stuttgart, Baden-Württemberg, Germany\\n          \\n\\n\\n            \\n\\n    \\n    \\n    \\n    \\n    \\n    \\n    \\n    \\n    \\n    \\n    \\n    \\n    \\n    \\n    \\n    \\n\\n    \\n    \\n    \\n    \\n    \\n    \\n    \\n    \\n    \\n    \\n    \\n    \\n    \\n    \\n\\n      5 days ago\\n  \\n          \\n\\n\\n \\n\\n\\n\\n\\n\\n\\n\\n\\n              \\n        \\n        Praktikant (m/w/d) Produktionsplanung\\n      \\n      \\n          \\n\\n\\n\\n\\n            \\n        Praktikant (m/w/d) Produktionsplanung\\n      \\n \\n\\n\\n            Porsche AG\\n          \\n\\n\\n\\n\\n\\n            Stuttgart, Baden-Württemberg, Germany\\n          \\n\\n\\n            \\n\\n    \\n    \\n    \\n    \\n    \\n    \\n    \\n    \\n    \\n    \\n    \\n    \\n    \\n    \\n    \\n    \\n\\n    \\n    \\n    \\n    \\n    \\n    \\n    \\n    \\n    \\n    \\n    \\n    \\n    \\n    \\n\\n      1 week ago\\n  \\n          \\n\\n\\n \\n\\n\\n\\n\\n\\n\\n\\n\\n              \\n        \\n        Pflichtpraktikum\\n      \\n      \\n          \\n\\n\\n\\n\\n            \\n        Pflichtpraktikum\\n      \\n \\n\\n\\n            ADMEDES\\n          \\n\\n\\n\\n\\n\\n            Enzkreis, Baden-Württemberg, Germany\\n          \\n\\n\\n            \\n\\n    \\n    \\n    \\n    \\n    \\n    \\n    \\n    \\n    \\n    \\n    \\n    \\n    \\n    \\n    \\n    \\n\\n    \\n    \\n    \\n    \\n    \\n    \\n    \\n    \\n    \\n    \\n    \\n    \\n    \\n    \\n\\n      5 months ago\\n  \\n          \\n\\n\\n \\n\\n\\n\\n\\n\\n\\n\\n\\n              \\n        \\n        Praktikant (m/w/d) oder Werkstudent (m/w/d) Initiativ\\n      \\n      \\n          \\n\\n\\n\\n\\n            \\n        Praktikant (m/w/d) oder Werkstudent (m/w/d) Initiativ\\n      \\n \\n\\n\\n            Thales\\n          \\n\\n\\n\\n\\n\\n            Ditzingen, Baden-Württemberg, Germany\\n          \\n\\n\\n            \\n\\n    \\n    \\n    \\n    \\n    \\n    \\n    \\n    \\n    \\n    \\n    \\n    \\n    \\n    \\n    \\n    \\n\\n    \\n    \\n    \\n    \\n    \\n    \\n    \\n    \\n    \\n    \\n    \\n    \\n    \\n    \\n\\n      1 week ago\\n  \\n          \\n\\n\\n \\n\\n\\n\\n\\n\\n\\n\\n\\n              \\n        \\n        Praktikum Consumer Indoor Development\\n      \\n      \\n          \\n\\n\\n\\n\\n            \\n        Praktikum Consumer Indoor Development\\n      \\n \\n\\n\\n            Kärcher\\n          \\n\\n\\n\\n\\n\\n            Winnenden, Baden-Württemberg, Germany\\n          \\n\\n\\n            \\n\\n    \\n    \\n    \\n    \\n    \\n    \\n    \\n    \\n    \\n    \\n    \\n    \\n    \\n    \\n    \\n    \\n\\n    \\n    \\n    \\n    \\n    \\n    \\n    \\n    \\n    \\n    \\n    \\n    \\n    \\n    \\n\\n      2 months ago\\n  \\n          \\n\\n\\n \\n\\n\\n\\n\\n\\n\\n\\n\\n              \\n        \\n        Schülerpraktikum (m/w/d)\\n      \\n      \\n          \\n\\n\\n\\n\\n            \\n        Schülerpraktikum (m/w/d)\\n      \\n \\n\\n\\n            ZELTWANGER Group\\n          \\n\\n\\n\\n\\n\\n            Tübingen, Baden-Württemberg, Germany\\n          \\n\\n\\n            \\n\\n    \\n    \\n    \\n    \\n    \\n    \\n    \\n    \\n    \\n    \\n    \\n    \\n    \\n    \\n    \\n    \\n\\n    \\n    \\n    \\n    \\n    \\n    \\n    \\n    \\n    \\n    \\n    \\n    \\n    \\n    \\n\\n      6 months ago\\n  \\n          \\n\\n\\n \\n\\n\\n\\n\\n\\n\\n\\n\\n              \\n        \\n        Masterarbeit, Praktikum (w/m/d) - Prospektive Ökobilanz von Brennstoffzellensysteme\\n      \\n      \\n          \\n\\n\\n\\n\\n            \\n        Masterarbeit, Praktikum (w/m/d) - Prospektive Ökobilanz von Brennstoffzellensysteme\\n      \\n \\n\\n\\n            German Aerospace Center (DLR)\\n          \\n\\n\\n\\n\\n\\n            Stuttgart, Baden-Württemberg, Germany\\n          \\n\\n\\n            \\n\\n    \\n    \\n    \\n    \\n    \\n    \\n    \\n    \\n    \\n    \\n    \\n    \\n    \\n    \\n    \\n    \\n\\n    \\n    \\n    \\n    \\n    \\n    \\n    \\n    \\n    \\n    \\n    \\n    \\n    \\n    \\n\\n      1 month ago\\n  \\n          \\n\\n\\n \\n\\n\\n\\n\\n\\n\\n\\n\\n              \\n        \\n        Studierender (m/w/d) für ein Praxissemester (Pflichtpraktikum) im Fachbereich Berufsausbildung (ab September 2025)\\n      \\n      \\n          \\n\\n\\n\\n\\n            \\n        Studierender (m/w/d) für ein Praxissemester (Pflichtpraktikum) im Fachbereich Berufsausbildung (ab September 2025)\\n      \\n \\n\\n\\n            Stuttgarter Straßenbahnen AG\\n          \\n\\n\\n\\n\\n\\n            Stuttgart, Baden-Württemberg, Germany\\n          \\n\\n\\n            \\n\\n    \\n    \\n    \\n    \\n    \\n    \\n    \\n    \\n    \\n    \\n    \\n    \\n    \\n    \\n    \\n    \\n\\n    \\n    \\n    \\n    \\n    \\n    \\n    \\n    \\n    \\n    \\n    \\n    \\n    \\n    \\n\\n      1 week ago\\n  \\n          \\n\\n\\n \\n\\n\\n\\n\\n\\n\\n\\n\\n              \\n        \\n        Schülerpraktikum (m/w/d)\\n      \\n      \\n          \\n\\n\\n\\n\\n            \\n        Schülerpraktikum (m/w/d)\\n      \\n \\n\\n\\n            Danfoss\\n          \\n\\n\\n\\n\\n\\n            Frickenhausen, Baden-Württemberg, Germany\\n          \\n\\n\\n            \\n\\n    \\n    \\n    \\n    \\n    \\n    \\n    \\n    \\n    \\n    \\n    \\n    \\n    \\n    \\n    \\n    \\n\\n    \\n    \\n    \\n    \\n    \\n    \\n    \\n    \\n    \\n    \\n    \\n    \\n    \\n    \\n\\n      2 weeks ago\\n  \\n          \\n\\n\\n \\n\\n\\n\\n\\n\\n\\n\\n\\n              Similar Searches\\n            \\n\\n\\n\\n\\n\\n\\n\\n\\n\\n\\n\\n\\n            \\n        Junior Sales Manager jobs\\n      \\n \\n\\n\\n\\n\\n              \\n        3,665 open jobs\\n      \\n            \\n \\n\\n\\n\\n\\n\\n\\n\\n\\n\\n\\n            \\n        Electrical Engineering Specialist jobs\\n      \\n \\n\\n\\n\\n\\n              \\n        39,894 open jobs\\n      \\n            \\n \\n\\n\\n\\n\\n\\n\\n\\n\\n\\n\\n            \\n        Public Relations Assistant jobs\\n      \\n \\n\\n\\n\\n\\n              \\n        321 open jobs\\n      \\n            \\n \\n\\n\\n\\n\\n\\n\\n\\n\\n\\n\\n            \\n        Environmental Engineer jobs\\n      \\n \\n\\n\\n\\n\\n              \\n        4,385 open jobs\\n      \\n            \\n \\n\\n\\n\\n\\n\\n\\n\\n\\n\\n\\n            \\n        Biochemist jobs\\n      \\n \\n\\n\\n\\n\\n              \\n        30 open jobs\\n      \\n            \\n \\n\\n\\n\\n\\n\\n\\n\\n\\n\\n\\n            \\n        Market Researcher jobs\\n      \\n \\n\\n\\n\\n\\n              \\n        193 open jobs\\n      \\n            \\n \\n\\n\\n\\n\\n\\n\\n\\n\\n\\n\\n            \\n        Microbiologist jobs\\n      \\n \\n\\n\\n\\n\\n              \\n        10 open jobs\\n      \\n            \\n \\n\\n\\n\\n\\n\\n\\n\\n\\n\\n\\n            \\n        Policy Researcher jobs\\n      \\n \\n\\n\\n\\n\\n              \\n        11 open jobs\\n      \\n            \\n \\n\\n\\n\\n\\n\\n\\n\\n\\n\\n\\n            \\n        Mathematics Teacher jobs\\n      \\n \\n\\n\\n\\n\\n              \\n        239 open jobs\\n      \\n            \\n \\n\\n\\n\\n\\n\\n\\n\\n\\n\\n\\n            \\n        Security Engineer jobs\\n      \\n \\n\\n\\n\\n\\n              \\n        4,509 open jobs\\n      \\n            \\n \\n\\n\\n\\n\\n\\n\\n\\n\\n\\n\\n            \\n        Development Engineer jobs\\n      \\n \\n\\n\\n\\n\\n              \\n        33,377 open jobs\\n      \\n            \\n \\n\\n\\n\\n\\n\\n\\n\\n\\n\\n\\n            \\n        Mechanical Engineering Specialist jobs\\n      \\n \\n\\n\\n\\n\\n              \\n        22,462 open jobs\\n      \\n            \\n \\n\\n\\n\\n\\n\\n\\n\\n\\n\\n\\n            \\n        Psychotherapist jobs\\n      \\n \\n\\n\\n\\n\\n              \\n        312 open jobs\\n      \\n            \\n \\n\\n\\n\\n\\n\\n\\n\\n\\n\\n\\n            \\n        Operations Executive jobs\\n      \\n \\n\\n\\n\\n\\n              \\n        1,335 open jobs\\n      \\n            \\n \\n\\n\\n\\n\\n\\n\\n\\n\\n\\n\\n            \\n        Analyst jobs\\n      \\n \\n\\n\\n\\n\\n              \\n        54,870 open jobs\\n      \\n            \\n \\n\\n\\n\\n\\n\\n                Show more\\n              \\n\\n\\n                Show less\\n              \\n\\n\\n\\n\\n\\n\\n\\n\\n\\n\\n\\n\\n          Explore collaborative articles\\n        \\n\\n\\n        We’re unlocking community knowledge in a new way. Experts add insights directly into each article, started with the help of AI.\\n      \\n\\n        Explore More\\n      \\n\\n\\n\\n\\n\\n\\n\\n\\n\\n\\n                \\n          \\n            More searches\\n        \\n              \\n\\n\\n                \\n          \\n            More searches\\n        \\n              \\n\\n\\n\\n\\n\\n\\n \\n\\n\\n                AMORELIE jobs\\n              \\n\\n\\n\\n                IAV jobs\\n              \\n\\n\\n\\n                SNIPES jobs\\n              \\n\\n\\n\\n                LBBW jobs\\n              \\n\\n\\n\\n                IABG jobs\\n              \\n\\n\\n\\n                Junior Sales Manager jobs\\n              \\n\\n\\n\\n                Hochschule Landshut jobs\\n              \\n\\n\\n\\n                Brainlab jobs\\n              \\n\\n\\n\\n                bonprix jobs\\n              \\n\\n\\n\\n                Rohde & Schwarz jobs\\n              \\n\\n\\n\\n                Electrical Engineering Specialist jobs\\n              \\n\\n\\n\\n                BayWa AG jobs\\n              \\n\\n\\n\\n                Vaillant Group jobs\\n              \\n\\n\\n\\n                tesa jobs\\n              \\n\\n\\n\\n                Arvato Systems jobs\\n              \\n\\n\\n \\n\\n \\n\\n\\n                FERCHAU jobs\\n              \\n\\n\\n\\n                Deutsche Bahn jobs\\n              \\n\\n\\n\\n                trivago jobs\\n              \\n\\n\\n\\n                Trade Republic jobs\\n              \\n\\n\\n\\n                Public Relations Assistant jobs\\n              \\n\\n\\n\\n                Environmental Engineer jobs\\n              \\n\\n\\n\\n                Berenberg jobs\\n              \\n\\n\\n\\n                Delivery Hero jobs\\n              \\n\\n\\n\\n                Beiersdorf jobs\\n              \\n\\n\\n\\n                BMW Group jobs\\n              \\n\\n\\n\\n                Biochemist jobs\\n              \\n\\n\\n\\n                Market Researcher jobs\\n              \\n\\n\\n\\n                AUDI AG jobs\\n              \\n\\n\\n\\n                Scalable Capital jobs\\n              \\n\\n\\n\\n                Deichmann jobs\\n              \\n\\n\\n \\n\\n \\n\\n\\n                Swisslog jobs\\n              \\n\\n\\n\\n                Microbiologist jobs\\n              \\n\\n\\n\\n                E.ON jobs\\n              \\n\\n\\n\\n                Deutsche Telekom jobs\\n              \\n\\n\\n\\n                Policy Researcher jobs\\n              \\n\\n\\n\\n                Mathematics Teacher jobs\\n              \\n\\n\\n\\n                Allianz jobs\\n              \\n\\n\\n\\n                Texas Instruments jobs\\n              \\n\\n\\n\\n                Security Engineer jobs\\n              \\n\\n\\n\\n                Development Engineer jobs\\n              \\n\\n\\n\\n                Lufthansa jobs\\n              \\n\\n\\n\\n                Vestas jobs\\n              \\n\\n\\n\\n                Hochschule Fresenius jobs\\n              \\n\\n\\n\\n                Uniper jobs\\n              \\n\\n\\n\\n                Siemens jobs\\n              \\n\\n\\n \\n\\n \\n\\n\\n                Bechtle jobs\\n              \\n\\n\\n\\n                Huawei jobs\\n              \\n\\n\\n\\n                Evonik jobs\\n              \\n\\n\\n\\n                Mechanical Engineering Specialist jobs\\n              \\n\\n\\n\\n                thyssenkrupp jobs\\n              \\n\\n\\n\\n                Psychotherapist jobs\\n              \\n\\n\\n\\n                Siegwerk jobs\\n              \\n\\n\\n\\n                John Deere jobs\\n              \\n\\n\\n\\n                Operations Executive jobs\\n              \\n\\n\\n\\n                Generali jobs\\n              \\n\\n\\n\\n                Sandoz jobs\\n              \\n\\n\\n\\n                Flossbach von Storch jobs\\n              \\n\\n\\n\\n                Kelvion jobs\\n              \\n\\n\\n\\n                Analyst jobs\\n              \\n\\n\\n\\n                HUGO BOSS jobs\\n              \\n\\n\\n \\n\\n\\n\\n\\n \\n\\n\\n\\n\\n\\n\\nLinkedIn\\n\\n© 2025\\n\\n\\n\\n          \\n          About\\n        \\n        \\n\\n\\n\\n          \\n          Accessibility\\n        \\n        \\n\\n\\n\\n          \\n          User Agreement\\n        \\n        \\n\\n\\n\\n          \\n          Privacy Policy\\n        \\n        \\n\\n\\n\\n\\n          \\n          Cookie Policy\\n        \\n        \\n\\n\\n\\n          \\n          Copyright Policy\\n        \\n        \\n\\n\\n\\n          \\n          Brand Policy\\n        \\n        \\n\\n\\n\\n          \\n            Guest Controls\\n          \\n        \\n\\n\\n\\n          \\n          Community Guidelines\\n        \\n        \\n\\n\\n\\n\\n\\n\\n\\n\\n\\n                العربية (Arabic)\\n            \\n\\n\\n\\n\\n                বাংলা (Bangla)\\n            \\n\\n\\n\\n\\n                Čeština (Czech)\\n            \\n\\n\\n\\n\\n                Dansk (Danish)\\n            \\n\\n\\n\\n\\n                Deutsch (German)\\n            \\n\\n\\n\\n\\n                Ελληνικά (Greek)\\n            \\n\\n\\n\\n\\nEnglish (English)\\n\\n\\n\\n\\n\\n                Español (Spanish)\\n            \\n\\n\\n\\n\\n                فارسی (Persian)\\n            \\n\\n\\n\\n\\n                Suomi (Finnish)\\n            \\n\\n\\n\\n\\n                Français (French)\\n            \\n\\n\\n\\n\\n                हिंदी (Hindi)\\n            \\n\\n\\n\\n\\n                Magyar (Hungarian)\\n            \\n\\n\\n\\n\\n                Bahasa Indonesia (Indonesian)\\n            \\n\\n\\n\\n\\n                Italiano (Italian)\\n            \\n\\n\\n\\n\\n                עברית (Hebrew)\\n            \\n\\n\\n\\n\\n                日本語 (Japanese)\\n            \\n\\n\\n\\n\\n                한국어 (Korean)\\n            \\n\\n\\n\\n\\n                मराठी (Marathi)\\n            \\n\\n\\n\\n\\n                Bahasa Malaysia (Malay)\\n            \\n\\n\\n\\n\\n                Nederlands (Dutch)\\n            \\n\\n\\n\\n\\n                Norsk (Norwegian)\\n            \\n\\n\\n\\n\\n                ਪੰਜਾਬੀ (Punjabi)\\n            \\n\\n\\n\\n\\n                Polski (Polish)\\n            \\n\\n\\n\\n\\n                Português (Portuguese)\\n            \\n\\n\\n\\n\\n                Română (Romanian)\\n            \\n\\n\\n\\n\\n                Русский (Russian)\\n            \\n\\n\\n\\n\\n                Svenska (Swedish)\\n            \\n\\n\\n\\n\\n                తెలుగు (Telugu)\\n            \\n\\n\\n\\n\\n                ภาษาไทย (Thai)\\n            \\n\\n\\n\\n\\n                Tagalog (Tagalog)\\n            \\n\\n\\n\\n\\n                Türkçe (Turkish)\\n            \\n\\n\\n\\n\\n                Українська (Ukrainian)\\n            \\n\\n\\n\\n\\n                Tiếng Việt (Vietnamese)\\n            \\n\\n\\n\\n\\n                简体中文 (Chinese (Simplified))\\n            \\n\\n\\n\\n\\n                正體中文 (Chinese (Traditional))\\n            \\n\\n\\n\\n\\n\\n            Language\\n          \\n\\n\\n\\n\\n\\n \\n\\n\\n\\n\\n\\n\\n\\n\\n\\n              Agree & Join LinkedIn\\n            \\n\\n      By clicking Continue to join or sign in, you agree to LinkedIn’s User Agreement, Privacy Policy, and Cookie Policy.\\n    \\n\\n\\n\\n\\n\\n\\n\\n\\n\\n\\n\\n\\n\\n\\n\\n\\n\\n\\n\\n\\n\\n \\n\\n\\n\\n\\n\\n\\n\\n\\n                Sign in to see who you already know at Mercedes-Benz Mobility AG\\n              \\n \\n\\n\\n\\n \\n \\n\\n\\n\\n              Sign in\\n          \\n\\n\\n\\n \\n\\n\\n\\n\\n\\n\\n\\n                Welcome back\\n            \\n\\n\\n\\n\\n\\n\\n\\n\\n\\n\\n \\n\\n\\n\\n\\n\\n          Email or phone\\n        \\n\\n\\n\\n\\n\\n\\n\\n\\n\\n          Password\\n        \\n\\n\\nShow\\n\\n\\n\\n\\n\\n \\n\\nForgot password?\\n\\n\\n\\n          Sign in\\n        \\n\\n\\n\\n              or\\n            \\n\\n\\n\\n\\n\\n      By clicking Continue to join or sign in, you agree to LinkedIn’s User Agreement, Privacy Policy, and Cookie Policy.\\n    \\n\\n \\n\\n\\n\\n                New to LinkedIn? Join now\\n\\n\\n\\n \\n\\n\\n\\n\\n\\n\\n                        or\\n                      \\n\\n\\n\\n                  New to LinkedIn? Join now\\n\\n\\n      By clicking Continue to join or sign in, you agree to LinkedIn’s User Agreement, Privacy Policy, and Cookie Policy.\\n    \\n\\n\\n \\n\\n\\n\\n\\n\\n\\n\\n\\n\\n\\n\\n\\n\\n\\n\\n\\n\\n\\n\\n\\n\\n\\n\\n\\n\\n\\n\\n'"
      ]
     },
     "execution_count": 3,
     "metadata": {},
     "output_type": "execute_result"
    }
   ],
   "source": [
    "pg_data = loader.load().pop().page_content\n",
    "pg_data"
   ]
  },
  {
   "cell_type": "code",
   "execution_count": 8,
   "id": "46feb997",
   "metadata": {},
   "outputs": [],
   "source": [
    "from langchain_core.prompts import PromptTemplate\n",
    "from langchain_groq import ChatGroq\n",
    "\n",
    "llm = ChatGroq(\n",
    "    temperature = 0,\n",
    "    groq_api_key='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',\n",
    "    model_name=\"llama-3.3-70b-versatile\"\n",
    ")"
   ]
  },
  {
   "cell_type": "code",
   "execution_count": 10,
   "id": "50571904",
   "metadata": {},
   "outputs": [
    {
     "name": "stdout",
     "output_type": "stream",
     "text": [
      "```json\n",
      "{\n",
      "  \"job_title\": \"Working Student in Data, Analytics and BI\",\n",
      "  \"role\": \"Internship\",\n",
      "  \"description\": \"Mercedes-Benz Mobility AG is hiring a Working Student in Data, Analytics and BI starting June 2025 in Stuttgart, Baden-Württemberg, Germany\",\n",
      "  \"skills\": [\n",
      "    \"MS Office suite (Word, Excel, PowerPoint)\",\n",
      "    \"JIRA\",\n",
      "    \"Strong communication skills\",\n",
      "    \"Ability to work collaboratively in a team environment\",\n",
      "    \"Interest in exploring and understanding the world of data\"\n",
      "  ],\n",
      "  \"experience\": \"Currently enrolled as a student in a relevant field\",\n",
      "  \"tasks\": [\n",
      "    \"Understand Mercedes-Benz internal and external requirements for secure and compliant data transfer in the cloud\",\n",
      "    \"Develop an understanding of our customers' data solutions and requirements\",\n",
      "    \"Coordinate and communicate effectively with both the team and customers\",\n",
      "    \"Adhere to rule processes, including the thorough review of documents and deliverables\",\n",
      "    \"Document relevant information and maintain accurate records of compliance activities\",\n",
      "    \"Assist in the continuous improvement of compliance procedures and processes\",\n",
      "    \"Support the team in identifying and resolving compliance-related issues\"\n",
      "  ]\n",
      "}\n",
      "```\n",
      "\n",
      "<class 'str'>\n"
     ]
    }
   ],
   "source": [
    "prompt_extract = PromptTemplate.from_template(\n",
    "    \"\"\"\n",
    "    ### SCRAPED TEXT FROM WEBSITE:\n",
    "    {pg_data}\n",
    "\n",
    "    ### INSTRUCTUION\n",
    "    The scrapped text is from the job page of LinkedIn. Your task is to extract the following details from the job posting and return them in a JSON format with the keys:\n",
    "    `job_title`, `role`, `description`, `skills`, `experience`, `tasks`.\n",
    "    Only return the valid JSON format.\n",
    "\n",
    "    ### VALID JSON (NO PREAMBLE)\n",
    "    \"\"\"\n",
    ")\n",
    "\n",
    "# creating a langchain chain\n",
    "chain_extract = prompt_extract | llm # getting a prompt and passing it to the llm\n",
    "\n",
    "res = chain_extract.invoke(input={'pg_data': pg_data})\n",
    "\n",
    "print(res.content)\n",
    "print()\n",
    "print(type(res.content))"
   ]
  },
  {
   "cell_type": "code",
   "execution_count": 11,
   "id": "3739cd64",
   "metadata": {},
   "outputs": [
    {
     "data": {
      "text/plain": [
       "{'job_title': 'Working Student in Data, Analytics and BI',\n",
       " 'role': 'Internship',\n",
       " 'description': 'Mercedes-Benz Mobility AG is hiring a Working Student in Data, Analytics and BI starting June 2025 in Stuttgart, Baden-Württemberg, Germany',\n",
       " 'skills': ['MS Office suite (Word, Excel, PowerPoint)',\n",
       "  'JIRA',\n",
       "  'Strong communication skills',\n",
       "  'Ability to work collaboratively in a team environment',\n",
       "  'Interest in exploring and understanding the world of data'],\n",
       " 'experience': 'Currently enrolled as a student in a relevant field',\n",
       " 'tasks': ['Understand Mercedes-Benz internal and external requirements for secure and compliant data transfer in the cloud',\n",
       "  \"Develop an understanding of our customers' data solutions and requirements\",\n",
       "  'Coordinate and communicate effectively with both the team and customers',\n",
       "  'Adhere to rule processes, including the thorough review of documents and deliverables',\n",
       "  'Document relevant information and maintain accurate records of compliance activities',\n",
       "  'Assist in the continuous improvement of compliance procedures and processes',\n",
       "  'Support the team in identifying and resolving compliance-related issues']}"
      ]
     },
     "execution_count": 11,
     "metadata": {},
     "output_type": "execute_result"
    }
   ],
   "source": [
    "# using the output parser to convert the str json content into a json type\n",
    "from langchain_core.output_parsers import JsonOutputParser\n",
    "\n",
    "json_parser = JsonOutputParser()\n",
    "json_obj = json_parser.parse(res.content)\n",
    "\n",
    "json_obj"
   ]
  },
  {
   "cell_type": "code",
   "execution_count": 12,
   "id": "9771dd2d",
   "metadata": {},
   "outputs": [
    {
     "data": {
      "text/plain": [
       "dict"
      ]
     },
     "execution_count": 12,
     "metadata": {},
     "output_type": "execute_result"
    }
   ],
   "source": [
    "type(json_obj)"
   ]
  },
  {
   "cell_type": "code",
   "execution_count": 61,
   "id": "74834e05",
   "metadata": {},
   "outputs": [
    {
     "data": {
      "text/html": [
       "<div>\n",
       "<style scoped>\n",
       "    .dataframe tbody tr th:only-of-type {\n",
       "        vertical-align: middle;\n",
       "    }\n",
       "\n",
       "    .dataframe tbody tr th {\n",
       "        vertical-align: top;\n",
       "    }\n",
       "\n",
       "    .dataframe thead th {\n",
       "        text-align: right;\n",
       "    }\n",
       "</style>\n",
       "<table border=\"1\" class=\"dataframe\">\n",
       "  <thead>\n",
       "    <tr style=\"text-align: right;\">\n",
       "      <th></th>\n",
       "      <th>TechStack</th>\n",
       "      <th>Link1</th>\n",
       "      <th>Link2</th>\n",
       "    </tr>\n",
       "  </thead>\n",
       "  <tbody>\n",
       "    <tr>\n",
       "      <th>0</th>\n",
       "      <td>React</td>\n",
       "      <td>https://github.com/anniechakraborty/anniechak...</td>\n",
       "      <td>https://github.com/anniechakraborty/textutils</td>\n",
       "    </tr>\n",
       "    <tr>\n",
       "      <th>1</th>\n",
       "      <td>Angular</td>\n",
       "      <td>https://github.com/anniechakraborty/simpleKan...</td>\n",
       "      <td>https://github.com/anniechakraborty/frontend-...</td>\n",
       "    </tr>\n",
       "    <tr>\n",
       "      <th>2</th>\n",
       "      <td>Flask</td>\n",
       "      <td>https://github.com/anniechakraborty/simpleKan...</td>\n",
       "      <td>https://github.com/anniechakraborty/PersonalW...</td>\n",
       "    </tr>\n",
       "    <tr>\n",
       "      <th>3</th>\n",
       "      <td>MongoDB</td>\n",
       "      <td>https://github.com/anniechakraborty/simpleKan...</td>\n",
       "      <td>https://github.com/anniechakraborty/BookQuest</td>\n",
       "    </tr>\n",
       "    <tr>\n",
       "      <th>4</th>\n",
       "      <td>Python</td>\n",
       "      <td>https://github.com/anniechakraborty/simpleKan...</td>\n",
       "      <td>https://github.com/anniechakraborty/BookQuest</td>\n",
       "    </tr>\n",
       "    <tr>\n",
       "      <th>5</th>\n",
       "      <td>GenAI</td>\n",
       "      <td>https://github.com/anniechakraborty/GenAIProj...</td>\n",
       "      <td>https://github.com/anniechakraborty/cold-emai...</td>\n",
       "    </tr>\n",
       "    <tr>\n",
       "      <th>6</th>\n",
       "      <td>ReactNative</td>\n",
       "      <td>https://github.com/anniechakraborty/TextHelp</td>\n",
       "      <td>https://github.com/anniechakraborty/my-app</td>\n",
       "    </tr>\n",
       "    <tr>\n",
       "      <th>7</th>\n",
       "      <td>HTML, CSS, TailwindCSS</td>\n",
       "      <td>https://github.com/anniechakraborty/manage-la...</td>\n",
       "      <td>https://github.com/anniechakraborty/social-li...</td>\n",
       "    </tr>\n",
       "    <tr>\n",
       "      <th>8</th>\n",
       "      <td>Machine Learning</td>\n",
       "      <td>https://github.com/anniechakraborty/Classific...</td>\n",
       "      <td>https://github.com/anniechakraborty/Regressio...</td>\n",
       "    </tr>\n",
       "    <tr>\n",
       "      <th>9</th>\n",
       "      <td>XML, Xquery</td>\n",
       "      <td>https://github.com/anniechakraborty/BookQuest</td>\n",
       "      <td>https://github.com/anniechakraborty/BookQuest</td>\n",
       "    </tr>\n",
       "  </tbody>\n",
       "</table>\n",
       "</div>"
      ],
      "text/plain": [
       "                TechStack                                              Link1  \\\n",
       "0                   React   https://github.com/anniechakraborty/anniechak...   \n",
       "1                 Angular   https://github.com/anniechakraborty/simpleKan...   \n",
       "2                   Flask   https://github.com/anniechakraborty/simpleKan...   \n",
       "3                 MongoDB   https://github.com/anniechakraborty/simpleKan...   \n",
       "4                  Python   https://github.com/anniechakraborty/simpleKan...   \n",
       "5                   GenAI   https://github.com/anniechakraborty/GenAIProj...   \n",
       "6             ReactNative       https://github.com/anniechakraborty/TextHelp   \n",
       "7  HTML, CSS, TailwindCSS   https://github.com/anniechakraborty/manage-la...   \n",
       "8        Machine Learning   https://github.com/anniechakraborty/Classific...   \n",
       "9             XML, Xquery      https://github.com/anniechakraborty/BookQuest   \n",
       "\n",
       "                                               Link2  \n",
       "0      https://github.com/anniechakraborty/textutils  \n",
       "1   https://github.com/anniechakraborty/frontend-...  \n",
       "2   https://github.com/anniechakraborty/PersonalW...  \n",
       "3      https://github.com/anniechakraborty/BookQuest  \n",
       "4      https://github.com/anniechakraborty/BookQuest  \n",
       "5   https://github.com/anniechakraborty/cold-emai...  \n",
       "6         https://github.com/anniechakraborty/my-app  \n",
       "7   https://github.com/anniechakraborty/social-li...  \n",
       "8   https://github.com/anniechakraborty/Regressio...  \n",
       "9      https://github.com/anniechakraborty/BookQuest  "
      ]
     },
     "execution_count": 61,
     "metadata": {},
     "output_type": "execute_result"
    }
   ],
   "source": [
    "# Getting the skills data to store in chromadb\n",
    "import pandas as pd\n",
    "\n",
    "df = pd.read_csv('skills.csv')\n",
    "df"
   ]
  },
  {
   "cell_type": "code",
   "execution_count": 62,
   "id": "a015a40c",
   "metadata": {},
   "outputs": [
    {
     "name": "stdout",
     "output_type": "stream",
     "text": [
      "['TechStack', 'Link1', 'Link2']\n"
     ]
    }
   ],
   "source": [
    "# Preparing the chromaDB as a persistent client to store the data on a disk so that we can access the same data later on without having to insert it again\n",
    "# using just client stores the data in-memory\n",
    "\n",
    "import chromadb\n",
    "import uuid\n",
    "\n",
    "client = chromadb.PersistentClient('vectorstore')\n",
    "collection = client.get_or_create_collection(name='Portfolio')\n",
    "print(df.columns.tolist())\n",
    "if not collection.count():\n",
    "    for _, row in df.iterrows():\n",
    "        primary_link = str(row['Link1']) if pd.notna(row['Link1']) else ''\n",
    "        secondary_link = str(row['Link2']) if pd.notna(row['Link2']) else ''\n",
    "        tech_stack = str(row['TechStack']) if pd.notna(row['TechStack']) else ''\n",
    "        collection.add(\n",
    "            documents=[tech_stack],\n",
    "            metadatas={\n",
    "                'primary_links': primary_link,\n",
    "                'secondary_links': secondary_link\n",
    "            },\n",
    "            ids=[str(uuid.uuid4())]\n",
    "        )"
   ]
  },
  {
   "cell_type": "code",
   "execution_count": 63,
   "id": "7a998979",
   "metadata": {},
   "outputs": [
    {
     "name": "stdout",
     "output_type": "stream",
     "text": [
      "{'ids': ['dcdf6d24-64a5-4e68-b4e4-c87eb826bf3a', 'd777530e-c320-47b0-9c3e-12de272bb028', '404fbf68-8863-4dc6-a85b-dc2cd2e78b97', '9ee1d38e-0f51-4e5a-80ab-1e9f959de076', '47dd32d0-4929-4224-928d-6ae68eefb042', '47198e47-cb6d-44d2-9f31-37955247981c', 'd3de57b6-1a3a-4b13-a77d-4979a0ddc261', '515e45e0-d307-4b6f-8527-628a93169b61', 'd2a867d8-a956-4804-83cf-44ec97a3537d', '8c2815a8-c17b-47ec-a969-001fcfeec19f'], 'embeddings': array([[-0.08726904,  0.00863323,  0.03240667, ..., -0.01087549,\n",
      "         0.03119643, -0.01890796],\n",
      "       [-0.09454282,  0.03366246, -0.10063555, ...,  0.01545668,\n",
      "         0.00646383, -0.05681656],\n",
      "       [-0.08751205,  0.00945656, -0.06109304, ...,  0.07134798,\n",
      "         0.04969556, -0.02960439],\n",
      "       ...,\n",
      "       [ 0.00566728,  0.05578964,  0.01165499, ...,  0.04982461,\n",
      "         0.00703615,  0.11334594],\n",
      "       [-0.02439189,  0.00324442,  0.05426768, ...,  0.03536279,\n",
      "        -0.02179913, -0.05384536],\n",
      "       [ 0.03419754,  0.06116725,  0.01045411, ...,  0.03658027,\n",
      "         0.09226053,  0.00582634]], shape=(10, 384)), 'documents': ['React', 'Angular', 'Flask', 'MongoDB', 'Python', 'GenAI', 'ReactNative', 'HTML, CSS, TailwindCSS', 'Machine Learning', 'XML, Xquery'], 'uris': None, 'included': ['metadatas', 'documents', 'embeddings'], 'data': None, 'metadatas': [{'primary_links': ' https://github.com/anniechakraborty/anniechakraborty.github.io', 'secondary_links': ' https://github.com/anniechakraborty/textutils'}, {'primary_links': ' https://github.com/anniechakraborty/simpleKanbanBoard', 'secondary_links': ' https://github.com/anniechakraborty/frontend-quiz-app'}, {'primary_links': ' https://github.com/anniechakraborty/simpleKanbanBackend', 'secondary_links': ' https://github.com/anniechakraborty/PersonalWebsiteBackend'}, {'primary_links': ' https://github.com/anniechakraborty/simpleKanbanBackend', 'secondary_links': ' https://github.com/anniechakraborty/BookQuest'}, {'secondary_links': ' https://github.com/anniechakraborty/BookQuest', 'primary_links': ' https://github.com/anniechakraborty/simpleKanbanBackend'}, {'secondary_links': ' https://github.com/anniechakraborty/cold-emails-generator', 'primary_links': ' https://github.com/anniechakraborty/GenAIProjects'}, {'secondary_links': ' https://github.com/anniechakraborty/my-app', 'primary_links': ' https://github.com/anniechakraborty/TextHelp'}, {'secondary_links': ' https://github.com/anniechakraborty/social-links-profile-main', 'primary_links': ' https://github.com/anniechakraborty/manage-landing-page'}, {'secondary_links': ' https://github.com/anniechakraborty/RegressionModels', 'primary_links': ' https://github.com/anniechakraborty/ClassificationModels'}, {'secondary_links': ' https://github.com/anniechakraborty/BookQuest', 'primary_links': ' https://github.com/anniechakraborty/BookQuest'}]}\n"
     ]
    },
    {
     "data": {
      "text/plain": [
       "10"
      ]
     },
     "execution_count": 63,
     "metadata": {},
     "output_type": "execute_result"
    }
   ],
   "source": [
    "print(collection.peek())\n",
    "# collection.delete(\n",
    "#     ids=['710bb5f3-b95f-4497-a816-611f3c569343', '32224923-7d2e-4075-a147-7d1fcaff0718', '920fff09-2502-409a-8a16-b80d841075e4', 'f19a6f6c-4090-4e58-9140-6ac2fa41edc7', 'a8f9b1b9-c0b6-45cc-a23e-985abb7eb2b8', '3950196c-92d0-4017-8262-d5a196a77638', '96d687ee-47c3-4892-800c-e6805ed01d75', 'd7664246-0a58-4db2-87bd-1ce50549e984', 'e20d5376-087e-493c-a645-f0fd73ecfc32', '6a4e31e7-a1a6-4c8d-8fbe-fe61b0589b62']\n",
    "# )\n",
    "collection.count()"
   ]
  },
  {
   "cell_type": "code",
   "execution_count": null,
   "id": "7c84b0df",
   "metadata": {},
   "outputs": [
    {
     "data": {
      "text/plain": [
       "[[{'primary_links': ' https://github.com/anniechakraborty/simpleKanbanBackend',\n",
       "   'secondary_links': ' https://github.com/anniechakraborty/BookQuest'},\n",
       "  {'primary_links': ' https://github.com/anniechakraborty/simpleKanbanBackend',\n",
       "   'secondary_links': ' https://github.com/anniechakraborty/PersonalWebsiteBackend'}],\n",
       " [{'secondary_links': ' https://github.com/anniechakraborty/BookQuest',\n",
       "   'primary_links': ' https://github.com/anniechakraborty/BookQuest'},\n",
       "  {'primary_links': ' https://github.com/anniechakraborty/simpleKanbanBackend',\n",
       "   'secondary_links': ' https://github.com/anniechakraborty/BookQuest'}]]"
      ]
     },
     "execution_count": 64,
     "metadata": {},
     "output_type": "execute_result"
    }
   ],
   "source": [
    "# getting relevant portfolio links for some given skills\n",
    "\n",
    "links = collection.query(\n",
    "    query_texts=['Python', 'XML'],\n",
    "    n_results=1\n",
    ").get('metadatas')\n",
    "\n",
    "links"
   ]
  },
  {
   "cell_type": "code",
   "execution_count": null,
   "id": "a3d065ee",
   "metadata": {},
   "outputs": [],
   "source": []
  }
 ],
 "metadata": {
  "kernelspec": {
   "display_name": "venv",
   "language": "python",
   "name": "python3"
  },
  "language_info": {
   "codemirror_mode": {
    "name": "ipython",
    "version": 3
   },
   "file_extension": ".py",
   "mimetype": "text/x-python",
   "name": "python",
   "nbconvert_exporter": "python",
   "pygments_lexer": "ipython3",
   "version": "3.13.1"
  }
 },
 "nbformat": 4,
 "nbformat_minor": 5
}
